{
  "cells": [
    {
      "cell_type": "markdown",
      "metadata": {
        "id": "vtpRJtJ7jKmo"
      },
      "source": [
        "# CSE251B Project Milestone Starter File"
      ]
    },
    {
      "cell_type": "markdown",
      "metadata": {
        "id": "ir_VbBlRjKmq"
      },
      "source": [
        "## Step 1: Import Dependencies:"
      ]
    },
    {
      "cell_type": "code",
      "execution_count": 1,
      "metadata": {
        "colab": {
          "base_uri": "https://localhost:8080/"
        },
        "id": "qlOkUAyvjKmq",
        "outputId": "f8e8ec3d-4980-484b-bcee-6f6cad2010cb"
      },
      "outputs": [
        {
          "output_type": "stream",
          "name": "stdout",
          "text": [
            "Collecting torch-geometric\n",
            "  Downloading torch_geometric-2.6.1-py3-none-any.whl.metadata (63 kB)\n",
            "\u001b[?25l     \u001b[90m━━━━━━━━━━━━━━━━━━━━━━━━━━━━━━━━━━━━━━━━\u001b[0m \u001b[32m0.0/63.1 kB\u001b[0m \u001b[31m?\u001b[0m eta \u001b[36m-:--:--\u001b[0m\r\u001b[2K     \u001b[90m━━━━━━━━━━━━━━━━━━━━━━━━━━━━━━━━━━━━━━━━\u001b[0m \u001b[32m63.1/63.1 kB\u001b[0m \u001b[31m3.1 MB/s\u001b[0m eta \u001b[36m0:00:00\u001b[0m\n",
            "\u001b[?25hRequirement already satisfied: aiohttp in /usr/local/lib/python3.11/dist-packages (from torch-geometric) (3.11.15)\n",
            "Requirement already satisfied: fsspec in /usr/local/lib/python3.11/dist-packages (from torch-geometric) (2025.3.2)\n",
            "Requirement already satisfied: jinja2 in /usr/local/lib/python3.11/dist-packages (from torch-geometric) (3.1.6)\n",
            "Requirement already satisfied: numpy in /usr/local/lib/python3.11/dist-packages (from torch-geometric) (2.0.2)\n",
            "Requirement already satisfied: psutil>=5.8.0 in /usr/local/lib/python3.11/dist-packages (from torch-geometric) (5.9.5)\n",
            "Requirement already satisfied: pyparsing in /usr/local/lib/python3.11/dist-packages (from torch-geometric) (3.2.3)\n",
            "Requirement already satisfied: requests in /usr/local/lib/python3.11/dist-packages (from torch-geometric) (2.32.3)\n",
            "Requirement already satisfied: tqdm in /usr/local/lib/python3.11/dist-packages (from torch-geometric) (4.67.1)\n",
            "Requirement already satisfied: aiohappyeyeballs>=2.3.0 in /usr/local/lib/python3.11/dist-packages (from aiohttp->torch-geometric) (2.6.1)\n",
            "Requirement already satisfied: aiosignal>=1.1.2 in /usr/local/lib/python3.11/dist-packages (from aiohttp->torch-geometric) (1.3.2)\n",
            "Requirement already satisfied: attrs>=17.3.0 in /usr/local/lib/python3.11/dist-packages (from aiohttp->torch-geometric) (25.3.0)\n",
            "Requirement already satisfied: frozenlist>=1.1.1 in /usr/local/lib/python3.11/dist-packages (from aiohttp->torch-geometric) (1.6.0)\n",
            "Requirement already satisfied: multidict<7.0,>=4.5 in /usr/local/lib/python3.11/dist-packages (from aiohttp->torch-geometric) (6.4.4)\n",
            "Requirement already satisfied: propcache>=0.2.0 in /usr/local/lib/python3.11/dist-packages (from aiohttp->torch-geometric) (0.3.1)\n",
            "Requirement already satisfied: yarl<2.0,>=1.17.0 in /usr/local/lib/python3.11/dist-packages (from aiohttp->torch-geometric) (1.20.0)\n",
            "Requirement already satisfied: MarkupSafe>=2.0 in /usr/local/lib/python3.11/dist-packages (from jinja2->torch-geometric) (3.0.2)\n",
            "Requirement already satisfied: charset-normalizer<4,>=2 in /usr/local/lib/python3.11/dist-packages (from requests->torch-geometric) (3.4.2)\n",
            "Requirement already satisfied: idna<4,>=2.5 in /usr/local/lib/python3.11/dist-packages (from requests->torch-geometric) (3.10)\n",
            "Requirement already satisfied: urllib3<3,>=1.21.1 in /usr/local/lib/python3.11/dist-packages (from requests->torch-geometric) (2.4.0)\n",
            "Requirement already satisfied: certifi>=2017.4.17 in /usr/local/lib/python3.11/dist-packages (from requests->torch-geometric) (2025.4.26)\n",
            "Downloading torch_geometric-2.6.1-py3-none-any.whl (1.1 MB)\n",
            "\u001b[2K   \u001b[90m━━━━━━━━━━━━━━━━━━━━━━━━━━━━━━━━━━━━━━━━\u001b[0m \u001b[32m1.1/1.1 MB\u001b[0m \u001b[31m11.7 MB/s\u001b[0m eta \u001b[36m0:00:00\u001b[0m\n",
            "\u001b[?25hInstalling collected packages: torch-geometric\n",
            "Successfully installed torch-geometric-2.6.1\n"
          ]
        }
      ],
      "source": [
        "!pip install torch-geometric\n",
        "\n",
        "import numpy as np\n",
        "import pandas as pd\n",
        "import matplotlib.pyplot as plt\n",
        "import random\n",
        "\n",
        "import torch\n",
        "import torch.nn as nn\n",
        "import torch.optim as optim\n",
        "from torch.utils.data import Dataset, DataLoader\n",
        "from torch_geometric.data import Data, Batch\n",
        "from torch_geometric.nn import GCNConv, global_mean_pool\n",
        "import torch.nn.functional as F\n",
        "from transformers import MambaModel, MambaConfig\n",
        "from typing import Optional, Tuple, Dict\n",
        "import tqdm"
      ]
    },
    {
      "cell_type": "markdown",
      "metadata": {
        "id": "teyO4QBAjKms"
      },
      "source": [
        "## Step 2: Load the Dataset"
      ]
    },
    {
      "cell_type": "markdown",
      "metadata": {
        "id": "jTfrTwVJjKmt"
      },
      "source": [
        "#### You need to describe in your own words what the dataset is about, and use mathematical language and formulate your prediction task on the submitted PDF file for Question 1 Problem A."
      ]
    },
    {
      "cell_type": "markdown",
      "metadata": {
        "id": "vYEqPu-MjKmt"
      },
      "source": [
        "#### Here we are loading the dataset from the local directory. And answer Question 1 Problem B"
      ]
    },
    {
      "cell_type": "code",
      "source": [
        "from google.colab import drive\n",
        "drive.mount('/content/drive')\n",
        "train_npz = np.load('/content/drive/My Drive/251B_data/train.npz')\n",
        "test_npz = np.load('/content/drive/My Drive/251B_data/test_input.npz')\n",
        "train_data = train_npz['data']\n",
        "test_data = test_npz['data']"
      ],
      "metadata": {
        "colab": {
          "base_uri": "https://localhost:8080/"
        },
        "id": "DmXptbI8jOP9",
        "outputId": "46d80681-f2e6-464e-d936-ba45544ad05d"
      },
      "execution_count": 2,
      "outputs": [
        {
          "output_type": "stream",
          "name": "stdout",
          "text": [
            "Mounted at /content/drive\n"
          ]
        }
      ]
    },
    {
      "cell_type": "code",
      "execution_count": 3,
      "metadata": {
        "colab": {
          "base_uri": "https://localhost:8080/"
        },
        "id": "yfTjEsRojKmu",
        "outputId": "522e2df6-63cb-4a36-c758-6383cb0d63ec"
      },
      "outputs": [
        {
          "output_type": "stream",
          "name": "stdout",
          "text": [
            "(10000, 50, 110, 6) (2100, 50, 50, 6)\n"
          ]
        }
      ],
      "source": [
        "print(train_data.shape, test_data.shape)\n",
        "\n",
        "# Split once for later use\n",
        "X_train = train_data[..., :50, :]\n",
        "Y_train = train_data[:, 0, 50:, :2]"
      ]
    },
    {
      "cell_type": "code",
      "execution_count": 4,
      "metadata": {
        "id": "WsLmUjWLjKmw"
      },
      "outputs": [],
      "source": [
        "xy_in = train_data[:, :, :50, :2].reshape(-1, 2)\n",
        "# only find the x, y != 0\n",
        "xy_in_not_0 = xy_in[(xy_in[:, 0] != 0) & (xy_in[:, 1] != 0)]"
      ]
    },
    {
      "cell_type": "markdown",
      "metadata": {
        "id": "nAhF7O8GjKmx"
      },
      "source": [
        "#### Try to play around with dataset for training and testing, make exploratory analysis on the dataset for bonus points(up to 2)"
      ]
    },
    {
      "cell_type": "markdown",
      "metadata": {
        "id": "Vf67FAN9jKmy"
      },
      "source": [
        "## Step 3: Setting up the Training and Testing"
      ]
    },
    {
      "cell_type": "markdown",
      "metadata": {
        "id": "xVyUmmrtjKmy"
      },
      "source": [
        "### Example Code:"
      ]
    },
    {
      "cell_type": "code",
      "execution_count": 8,
      "metadata": {
        "id": "jVxyqxiXjKmy"
      },
      "outputs": [],
      "source": [
        "import numpy as np\n",
        "import torch\n",
        "from torch.utils.data import Dataset\n",
        "from torch_geometric.data import Data\n",
        "\n",
        "class TrajectoryDatasetTrain(Dataset):\n",
        "    def __init__(self, data, scale=10.0, augment=True):\n",
        "        \"\"\"\n",
        "        data: shape (N, 50, 110, 6)\n",
        "        scale: normalization factor\n",
        "        augment: whether to apply random horizontal flipping\n",
        "        \"\"\"\n",
        "        self.data = data\n",
        "        self.scale = scale\n",
        "        self.augment = augment\n",
        "\n",
        "    def __len__(self):\n",
        "        return len(self.data)\n",
        "\n",
        "    def __getitem__(self, idx):\n",
        "        scene = self.data[idx].copy()  # *** CRITICAL: Make a copy! ***\n",
        "\n",
        "        # === Rotate so agent 0 has heading 0 at t=49 ===\n",
        "        ego_heading = scene[0, 49, 4]\n",
        "        cos_theta = np.cos(-ego_heading)\n",
        "        sin_theta = np.sin(-ego_heading)\n",
        "        R = np.array([[cos_theta, -sin_theta],\n",
        "                      [sin_theta,  cos_theta]], dtype=np.float32)\n",
        "\n",
        "        scene[..., 0:2] = scene[..., 0:2] @ R.T  # Rotate positions\n",
        "        scene[..., 2:4] = scene[..., 2:4] @ R.T  # Rotate velocities\n",
        "        scene[..., 4] = scene[..., 4] - ego_heading  # Normalize heading\n",
        "\n",
        "        # === Get history and future ===\n",
        "        hist = scene[:, :50, :].copy()  # (50, 50, 6)\n",
        "        future = torch.tensor(scene[0, 50:, :2].copy(), dtype=torch.float32)  # (60, 2)\n",
        "\n",
        "        # === Random horizontal flip (only during training) ===\n",
        "        if self.augment:\n",
        "            if np.random.rand() < 0.5:\n",
        "                hist[..., 0] *= -1     # Flip x position\n",
        "                hist[..., 2] *= -1     # Flip x velocity\n",
        "                future[:, 0] *= -1     # Flip future x\n",
        "\n",
        "        # === Translate to origin (agent 0 at t=49) ===\n",
        "        origin = hist[0, 49, :2].copy()\n",
        "        hist[..., :2] = hist[..., :2] - origin\n",
        "        future = future - origin\n",
        "\n",
        "        # === Normalize by scale ===\n",
        "        hist[..., :4] = hist[..., :4] / self.scale\n",
        "        future = future / self.scale\n",
        "\n",
        "        return Data(\n",
        "            x=torch.tensor(hist, dtype=torch.float32),\n",
        "            y=future,\n",
        "            origin=torch.tensor(origin, dtype=torch.float32).unsqueeze(0),\n",
        "            scale=torch.tensor(self.scale, dtype=torch.float32),\n",
        "        )\n",
        "\n",
        "\n",
        "class TrajectoryDatasetTest(Dataset):\n",
        "    def __init__(self, data, scale=10.0):\n",
        "        \"\"\"\n",
        "        data: Shape (N, 50, 50, 6) for test set with historical trajectory only\n",
        "        scale: Normalization factor\n",
        "        \"\"\"\n",
        "        self.data = data\n",
        "        self.scale = scale\n",
        "\n",
        "    def __len__(self):\n",
        "        return len(self.data)\n",
        "\n",
        "    def __getitem__(self, idx):\n",
        "        scene = self.data[idx].copy()  # *** CRITICAL: Make a copy! ***\n",
        "\n",
        "        # === Rotate so agent 0 has heading 0 at t=49 ===\n",
        "        ego_heading = scene[0, 49, 4]\n",
        "        cos_theta = np.cos(-ego_heading)\n",
        "        sin_theta = np.sin(-ego_heading)\n",
        "        R = np.array([[cos_theta, -sin_theta],\n",
        "                      [sin_theta,  cos_theta]], dtype=np.float32)\n",
        "\n",
        "        # Apply rotation (same as training: @ R.T)\n",
        "        scene[..., 0:2] = scene[..., 0:2] @ R.T  # Rotate positions\n",
        "        scene[..., 2:4] = scene[..., 2:4] @ R.T  # Rotate velocities\n",
        "        scene[..., 4] = scene[..., 4] - ego_heading  # Normalize heading\n",
        "\n",
        "        # === Get history (only historical data available for test) ===\n",
        "        hist = scene.copy()  # (50, 50, 6)\n",
        "\n",
        "        # === Translate to origin (agent 0 at t=49) - SAME AS TRAINING ===\n",
        "        origin = hist[0, 49, :2].copy()  # Store origin AFTER rotation, just like training\n",
        "        hist[..., :2] = hist[..., :2] - origin\n",
        "\n",
        "        # === Normalize by scale ===\n",
        "        hist[..., :4] = hist[..., :4] / self.scale\n",
        "\n",
        "        return Data(\n",
        "            x=torch.tensor(hist, dtype=torch.float32),\n",
        "            origin=torch.tensor(origin, dtype=torch.float32).unsqueeze(0),\n",
        "            scale=torch.tensor(self.scale, dtype=torch.float32),\n",
        "            rotation=torch.tensor(R, dtype=torch.float32)  # Store R for inverse transform\n",
        "        )"
      ]
    },
    {
      "cell_type": "markdown",
      "metadata": {
        "id": "xpdUtssvjKmy"
      },
      "source": [
        "#### Answer Question related to Your Computational Platform and GPU for Question 2 Problem A"
      ]
    },
    {
      "cell_type": "code",
      "execution_count": 22,
      "metadata": {
        "colab": {
          "base_uri": "https://localhost:8080/"
        },
        "id": "sORc8kt5jKmz",
        "outputId": "58f82678-b24c-4a8e-92d5-29ef3dc31b8e"
      },
      "outputs": [
        {
          "output_type": "stream",
          "name": "stdout",
          "text": [
            "Using CUDA GPU\n"
          ]
        }
      ],
      "source": [
        "torch.manual_seed(251)\n",
        "np.random.seed(42)\n",
        "\n",
        "scale = 10.0\n",
        "\n",
        "N = len(train_data)\n",
        "val_size = int(0.1 * N)\n",
        "train_size = N - val_size\n",
        "\n",
        "#train_data_shuffled = np.random.permutation(train_data)\n",
        "\n",
        "train_dataset = TrajectoryDatasetTrain(train_data[:train_size], scale=scale, augment=True)\n",
        "#train_dataset = TrajectoryDatasetTrain(train_data[:train_size], scale=scale, augment=False)\n",
        "val_dataset = TrajectoryDatasetTrain(train_data[train_size:], scale=scale, augment=False)\n",
        "\n",
        "train_dataloader = DataLoader(train_dataset, batch_size=32, shuffle=True, collate_fn=lambda x: Batch.from_data_list(x))\n",
        "val_dataloader = DataLoader(val_dataset, batch_size=32, shuffle=False, collate_fn=lambda x: Batch.from_data_list(x))\n",
        "\n",
        "# Set device for training speedup\n",
        "if torch.backends.mps.is_available():\n",
        "    device = torch.device('mps')\n",
        "    print(\"Using Apple Silicon GPU\")\n",
        "elif torch.cuda.is_available():\n",
        "    device = torch.device('cuda')\n",
        "    print(\"Using CUDA GPU\")\n",
        "else:\n",
        "    device = torch.device('cpu')"
      ]
    },
    {
      "cell_type": "markdown",
      "metadata": {
        "id": "QP7kHO2KjKmz"
      },
      "source": [
        "#### Your Model for Question 2 Problem B (Include your model architecture pictures and also can use some mathmatical equations to explain your model in your report)"
      ]
    },
    {
      "cell_type": "markdown",
      "metadata": {
        "id": "LfyXCo1ajKmz"
      },
      "source": [
        "#### This Model will be covered during Week 6 Lecture (If you don't understand it for now, don't worry, we will cover it in the lecture, or you can ask in the office hours)"
      ]
    },
    {
      "cell_type": "code",
      "source": [
        "import torch\n",
        "import torch.nn as nn\n",
        "import torch.nn.functional as F\n",
        "\n",
        "class ImprovedSocialAttention(nn.Module):\n",
        "    def __init__(self, ego_dim, other_dim, radius=40.0, heads=8):\n",
        "        super().__init__()\n",
        "        self.radius = radius\n",
        "        self.heads = heads\n",
        "        self.head_dim = other_dim // heads\n",
        "\n",
        "        # Multi-head projections\n",
        "        self.q_proj = nn.Linear(ego_dim, other_dim)\n",
        "        self.k_proj = nn.Linear(other_dim + 5, other_dim)\n",
        "        self.v_proj = nn.Linear(other_dim + 5, other_dim)\n",
        "        self.out = nn.Linear(other_dim, other_dim)\n",
        "\n",
        "        # Learnable positional encoding for relative positions\n",
        "        self.pos_encoding = nn.Sequential(\n",
        "            nn.Linear(5, other_dim // 4),\n",
        "            nn.ReLU(),\n",
        "            nn.Linear(other_dim // 4, other_dim)\n",
        "        )\n",
        "\n",
        "        self.dropout = nn.Dropout(0.1)\n",
        "\n",
        "    def forward(self, ego_h, other_h, rel_pos, rel_vel):\n",
        "        \"\"\"\n",
        "        ego_h   : [B, emb]             (query from ego LSTM)\n",
        "        other_h : [B, A-1, emb]        (other-agent encodings)\n",
        "        rel_pos : [B, A-1, 3]          (dx, dy, dist)\n",
        "        rel_vel : [B, A-1, 2]          (dvx, dvy)\n",
        "        \"\"\"\n",
        "        B, N, _ = other_h.shape\n",
        "\n",
        "        distances = rel_pos[..., 2]\n",
        "        mask = distances <= self.radius\n",
        "\n",
        "        if mask.sum() == 0:\n",
        "            return torch.zeros_like(other_h[:, 0])\n",
        "\n",
        "        rel_features = torch.cat([rel_pos, rel_vel], dim=-1)\n",
        "\n",
        "        # Enhanced K, V with positional encoding\n",
        "        pos_enc = self.pos_encoding(rel_features)\n",
        "        kv_input = other_h + pos_enc  # Residual connection with position\n",
        "\n",
        "        q = self.q_proj(ego_h).view(B, 1, self.heads, self.head_dim)\n",
        "        k = self.k_proj(torch.cat([kv_input, rel_features], dim=-1)).view(B, N, self.heads, self.head_dim)\n",
        "        v = self.v_proj(torch.cat([kv_input, rel_features], dim=-1)).view(B, N, self.heads, self.head_dim)\n",
        "\n",
        "        # Scaled dot-product attention with improved masking\n",
        "        attn = torch.einsum('bqhd,bnhd->bnhq', q, k) / (self.head_dim ** 0.5)\n",
        "\n",
        "        # Distance-aware attention weighting\n",
        "        distance_weight = torch.exp(-distances / (self.radius / 3)).unsqueeze(-1).unsqueeze(-1)\n",
        "        attn = attn * distance_weight\n",
        "\n",
        "        attn = attn.masked_fill(~mask.unsqueeze(-1).unsqueeze(-1), -1e9)\n",
        "        attn = F.softmax(attn, dim=1)\n",
        "        attn = self.dropout(attn)\n",
        "\n",
        "        ctx = torch.einsum('bnhq,bnhd->bqhd', attn, v).flatten(2)\n",
        "        return self.out(ctx.squeeze(1))\n",
        "\n",
        "class ImprovedLSTMParametricTrajectoryFeatures(nn.Module):\n",
        "    def __init__(self,\n",
        "                 input_dim=9,\n",
        "                 emb_dim=128,\n",
        "                 hidden_dim=256,\n",
        "                 lstm_layers=2,\n",
        "                 degree=3,\n",
        "                 social_heads=8,\n",
        "                 radius=35.0,\n",
        "                 other_rnn_dim=256):\n",
        "        super().__init__()\n",
        "        self.degree = degree\n",
        "        self.hidden_dim = hidden_dim\n",
        "\n",
        "        # Enhanced ego network with bidirectional LSTM\n",
        "        self.emb = nn.Linear(input_dim, emb_dim)\n",
        "        self.norm = nn.LayerNorm(emb_dim)\n",
        "        self.ego_lstm = nn.LSTM(emb_dim, hidden_dim,\n",
        "                                batch_first=True, num_layers=lstm_layers,\n",
        "                                bidirectional=True, dropout=0.1)\n",
        "\n",
        "        # Project bidirectional output back to hidden_dim\n",
        "        self.ego_proj = nn.Linear(hidden_dim * 2, hidden_dim)\n",
        "\n",
        "        # Enhanced other-agent encoder\n",
        "        self.other_emb = nn.Linear(input_dim, other_rnn_dim)\n",
        "        self.other_norm = nn.LayerNorm(other_rnn_dim)\n",
        "        self.other_gru = nn.GRU(other_rnn_dim, other_rnn_dim,\n",
        "                                batch_first=True, num_layers=2, dropout=0.1)\n",
        "\n",
        "        # Improved social attention\n",
        "        self.social_attn = ImprovedSocialAttention(\n",
        "            ego_dim=hidden_dim, other_dim=other_rnn_dim,\n",
        "            radius=radius, heads=social_heads\n",
        "        )\n",
        "\n",
        "        # Enhanced fusion network\n",
        "        self.fuse = nn.Sequential(\n",
        "            nn.Linear(hidden_dim + other_rnn_dim, hidden_dim),\n",
        "            nn.LayerNorm(hidden_dim),\n",
        "            nn.ReLU(),\n",
        "            nn.Dropout(0.1),\n",
        "            nn.Linear(hidden_dim, hidden_dim),\n",
        "            nn.ReLU(),\n",
        "        )\n",
        "\n",
        "        # Separate heads for x and y coefficients\n",
        "        self.fc_x = nn.Linear(hidden_dim, degree + 1)\n",
        "        self.fc_y = nn.Linear(hidden_dim, degree + 1)\n",
        "\n",
        "    def enhanced_featurize(self, raw):\n",
        "        \"\"\"Enhanced feature engineering\"\"\"\n",
        "        xp, yp, vx, vy, hd = (raw[..., i] for i in range(5))\n",
        "\n",
        "        # Basic features\n",
        "        cos_h = torch.cos(hd)\n",
        "        sin_h = torch.sin(hd)\n",
        "        speed = torch.sqrt(vx**2 + vy**2 + 1e-6)\n",
        "\n",
        "        # Enhanced features\n",
        "        # Acceleration (finite difference)\n",
        "        ax = torch.cat([torch.zeros_like(vx[..., :1]), vx[..., 1:] - vx[..., :-1]], dim=-1)\n",
        "        ay = torch.cat([torch.zeros_like(vy[..., :1]), vy[..., 1:] - vy[..., :-1]], dim=-1)\n",
        "\n",
        "        # Angular velocity (handle angle wrapping manually)\n",
        "        hd_diff = hd[..., 1:] - hd[..., :-1]\n",
        "        # Handle angle wrapping: if difference > pi, subtract 2*pi; if < -pi, add 2*pi\n",
        "        hd_diff = torch.where(hd_diff > torch.pi, hd_diff - 2*torch.pi, hd_diff)\n",
        "        hd_diff = torch.where(hd_diff < -torch.pi, hd_diff + 2*torch.pi, hd_diff)\n",
        "        angular_vel = torch.cat([torch.zeros_like(hd[..., :1]), hd_diff], dim=-1)\n",
        "\n",
        "        return torch.stack([xp, yp, vx, vy, cos_h, sin_h, speed, ax, ay], dim=-1)\n",
        "\n",
        "    def forward(self, data):\n",
        "        x = data.x.reshape(-1, 50, 50, 6)\n",
        "        ego_raw = x[:, 0]                    # [B, 50, 6]\n",
        "        others_raw = x[:, 1:]                # [B, A-1, 50, 6]\n",
        "        B, A1, T, _ = others_raw.shape\n",
        "\n",
        "        # Enhanced feature engineering\n",
        "        ego_feat = self.enhanced_featurize(ego_raw)         # [B, 50, 9]\n",
        "        others_feat = self.enhanced_featurize(\n",
        "            others_raw.reshape(B*A1, T, 6)\n",
        "        ).reshape(B, A1, T, -1)                             # [B, A-1, 50, 9]\n",
        "\n",
        "        # Encode ego with bidirectional LSTM\n",
        "        ego_emb = self.norm(self.emb(ego_feat))\n",
        "        ego_out, (ego_h, _) = self.ego_lstm(ego_emb)\n",
        "\n",
        "        # Use final hidden state from both directions\n",
        "        ego_h = self.ego_proj(ego_h[-2:].transpose(0, 1).flatten(1))  # [B, hidden_dim]\n",
        "\n",
        "        # Enhanced other-agent encoding\n",
        "        other_emb = self.other_norm(self.other_emb(others_feat.view(B*A1, T, -1)))\n",
        "        _, other_h = self.other_gru(other_emb)\n",
        "        other_h = other_h[-1].view(B, A1, -1)               # [B, A-1, other_rnn_dim]\n",
        "\n",
        "        # Enhanced relative features\n",
        "        ego_last = ego_feat[:, -1, :2].unsqueeze(1)         # [B, 1, 2]\n",
        "        other_last = others_feat[:, :, -1, :2]              # [B, A-1, 2]\n",
        "        rel_pos_vec = other_last - ego_last                 # [B, A-1, 2]\n",
        "        dist = torch.norm(rel_pos_vec, dim=-1, keepdim=True)\n",
        "        rel_pos = torch.cat([rel_pos_vec, dist], dim=-1)   # [B, A-1, 3]\n",
        "\n",
        "        # Relative velocity\n",
        "        ego_vel = ego_feat[:, -1, 2:4].unsqueeze(1)         # [B, 1, 2]\n",
        "        other_vel = others_feat[:, :, -1, 2:4]              # [B, A-1, 2]\n",
        "        rel_vel = other_vel - ego_vel                       # [B, A-1, 2]\n",
        "\n",
        "        # Social attention with relative velocity\n",
        "        social_ctx = self.social_attn(ego_h, other_h, rel_pos, rel_vel)\n",
        "\n",
        "        # Enhanced fusion\n",
        "        fused = self.fuse(torch.cat([ego_h, social_ctx], dim=-1))\n",
        "\n",
        "        # Separate prediction heads\n",
        "        a_coeffs = self.fc_x(fused)  # x coefficients\n",
        "        b_coeffs = self.fc_y(fused)  # y coefficients\n",
        "\n",
        "        # Enhanced polynomial basis with Chebyshev polynomials for better numerical stability\n",
        "        t = torch.linspace(0, 1, 60, device=x.device)\n",
        "\n",
        "        # Use orthogonal polynomial basis for better conditioning\n",
        "        basis_funcs = []\n",
        "        for i in range(self.degree + 1):\n",
        "            if i == 0:\n",
        "                basis_funcs.append(torch.ones_like(t))\n",
        "            elif i == 1:\n",
        "                basis_funcs.append(t)\n",
        "            else:\n",
        "                # Legendre polynomial recurrence for better numerical properties\n",
        "                basis_funcs.append(((2*i-1) * t * basis_funcs[-1] - (i-1) * basis_funcs[-2]) / i)\n",
        "\n",
        "        t_poly = torch.stack(basis_funcs, -1)               # [60, degree+1]\n",
        "        t_poly = t_poly.expand(B, -1, -1)                   # [B, 60, degree+1]\n",
        "\n",
        "        # Generate predictions\n",
        "        x_pred = torch.bmm(t_poly, a_coeffs.unsqueeze(-1)).squeeze(-1)\n",
        "        y_pred = torch.bmm(t_poly, b_coeffs.unsqueeze(-1)).squeeze(-1)\n",
        "\n",
        "        # Add residual connection from last position\n",
        "        last_pos = ego_feat[:, -1, :2]\n",
        "        x_pred += last_pos[:, 0].unsqueeze(-1)\n",
        "        y_pred += last_pos[:, 1].unsqueeze(-1)\n",
        "\n",
        "        return torch.stack([x_pred, y_pred], dim=-1)        # [B, 60, 2]\n"
      ],
      "metadata": {
        "id": "WQpGK8nmLsKU"
      },
      "execution_count": 14,
      "outputs": []
    },
    {
      "cell_type": "code",
      "source": [
        "import torch\n",
        "import torch.nn as nn\n",
        "import torch.nn.functional as F\n",
        "\n",
        "class EgoOnlyLSTMParametricTrajectoryFeatures(nn.Module):\n",
        "    def __init__(self,\n",
        "                 input_dim=9,\n",
        "                 emb_dim=128,\n",
        "                 hidden_dim=256,\n",
        "                 lstm_layers=2,\n",
        "                 degree=3):\n",
        "        super().__init__()\n",
        "        self.degree = degree\n",
        "        self.hidden_dim = hidden_dim\n",
        "\n",
        "        # Embedding and normalization\n",
        "        self.emb = nn.Linear(input_dim, emb_dim)\n",
        "        self.norm = nn.LayerNorm(emb_dim)\n",
        "\n",
        "        # Bidirectional LSTM for ego features\n",
        "        self.ego_lstm = nn.LSTM(\n",
        "            emb_dim, hidden_dim,\n",
        "            batch_first=True, num_layers=lstm_layers,\n",
        "            bidirectional=True, dropout=0.1\n",
        "        )\n",
        "\n",
        "        # Project bi-LSTM output\n",
        "        self.ego_proj = nn.Linear(hidden_dim * 2, hidden_dim)\n",
        "\n",
        "        # Deep feedforward network (analogous to fusion)\n",
        "        self.deep_block = nn.Sequential(\n",
        "            nn.Linear(hidden_dim, hidden_dim),\n",
        "            nn.LayerNorm(hidden_dim),\n",
        "            nn.ReLU(),\n",
        "            nn.Dropout(0.1),\n",
        "            nn.Linear(hidden_dim, hidden_dim),\n",
        "            nn.ReLU(),\n",
        "        )\n",
        "\n",
        "        # Separate heads for x and y coefficients\n",
        "        self.fc_x = nn.Linear(hidden_dim, degree + 1)\n",
        "        self.fc_y = nn.Linear(hidden_dim, degree + 1)\n",
        "\n",
        "    def enhanced_featurize(self, raw):\n",
        "        xp, yp, vx, vy, hd = (raw[..., i] for i in range(5))\n",
        "\n",
        "        cos_h = torch.cos(hd)\n",
        "        sin_h = torch.sin(hd)\n",
        "        speed = torch.sqrt(vx**2 + vy**2 + 1e-6)\n",
        "\n",
        "        ax = torch.cat([torch.zeros_like(vx[..., :1]), vx[..., 1:] - vx[..., :-1]], dim=-1)\n",
        "        ay = torch.cat([torch.zeros_like(vy[..., :1]), vy[..., 1:] - vy[..., :-1]], dim=-1)\n",
        "\n",
        "        hd_diff = hd[..., 1:] - hd[..., :-1]\n",
        "        hd_diff = torch.where(hd_diff > torch.pi, hd_diff - 2*torch.pi, hd_diff)\n",
        "        hd_diff = torch.where(hd_diff < -torch.pi, hd_diff + 2*torch.pi, hd_diff)\n",
        "        angular_vel = torch.cat([torch.zeros_like(hd[..., :1]), hd_diff], dim=-1)\n",
        "\n",
        "        return torch.stack([xp, yp, vx, vy, cos_h, sin_h, speed, ax, ay], dim=-1)\n",
        "\n",
        "    def forward(self, data):\n",
        "        x = data.x.reshape(-1, 50, 50, 6)\n",
        "        ego_raw = x[:, 0]  # [B, 50, 6]\n",
        "\n",
        "        # Feature engineering\n",
        "        ego_feat = self.enhanced_featurize(ego_raw)  # [B, 50, 9]\n",
        "\n",
        "        # Embedding and normalization\n",
        "        ego_emb = self.norm(self.emb(ego_feat))\n",
        "\n",
        "        # Encode with bi-LSTM\n",
        "        ego_out, (ego_h, _) = self.ego_lstm(ego_emb)\n",
        "\n",
        "        # Concatenate final hidden states\n",
        "        ego_h = self.ego_proj(ego_h[-2:].transpose(0, 1).flatten(1))  # [B, hidden_dim]\n",
        "\n",
        "        # Deep block\n",
        "        deep_out = self.deep_block(ego_h)  # [B, hidden_dim]\n",
        "\n",
        "        # Coefficient prediction\n",
        "        a_coeffs = self.fc_x(deep_out)\n",
        "        b_coeffs = self.fc_y(deep_out)\n",
        "\n",
        "        # Generate polynomial basis (Legendre)\n",
        "        t = torch.linspace(0, 1, 60, device=x.device)\n",
        "        basis_funcs = []\n",
        "        for i in range(self.degree + 1):\n",
        "            if i == 0:\n",
        "                basis_funcs.append(torch.ones_like(t))\n",
        "            elif i == 1:\n",
        "                basis_funcs.append(t)\n",
        "            else:\n",
        "                basis_funcs.append(((2*i-1)*t*basis_funcs[-1] - (i-1)*basis_funcs[-2])/i)\n",
        "        t_poly = torch.stack(basis_funcs, -1).expand(ego_h.shape[0], -1, -1)  # [B, 60, degree+1]\n",
        "\n",
        "        # Generate predictions\n",
        "        x_pred = torch.bmm(t_poly, a_coeffs.unsqueeze(-1)).squeeze(-1)\n",
        "        y_pred = torch.bmm(t_poly, b_coeffs.unsqueeze(-1)).squeeze(-1)\n",
        "\n",
        "        return torch.stack([x_pred, y_pred], dim=-1)  # [B, 60, 2]\n"
      ],
      "metadata": {
        "id": "WPzJqeHU8B8U"
      },
      "execution_count": 12,
      "outputs": []
    },
    {
      "cell_type": "code",
      "source": [
        "import torch\n",
        "import torch.nn as nn\n",
        "import torch.nn.functional as F\n",
        "\n",
        "class ImprovedSocialAttention(nn.Module):\n",
        "    def __init__(self, ego_dim, other_dim, radius=40.0, heads=8):\n",
        "        super().__init__()\n",
        "        self.radius = radius\n",
        "        self.heads = heads\n",
        "        self.head_dim = other_dim // heads\n",
        "\n",
        "        # Multi-head projections\n",
        "        self.q_proj = nn.Linear(ego_dim, other_dim)\n",
        "        self.k_proj = nn.Linear(other_dim + 5, other_dim)  # Added relative velocity\n",
        "        self.v_proj = nn.Linear(other_dim + 5, other_dim)\n",
        "        self.out = nn.Linear(other_dim, other_dim)\n",
        "\n",
        "        # Learnable positional encoding for relative positions\n",
        "        self.pos_encoding = nn.Sequential(\n",
        "            nn.Linear(5, other_dim // 4),\n",
        "            nn.ReLU(),\n",
        "            nn.Linear(other_dim // 4, other_dim)\n",
        "        )\n",
        "\n",
        "        self.dropout = nn.Dropout(0.1)\n",
        "\n",
        "    def forward(self, ego_h, other_h, rel_pos, rel_vel):\n",
        "        \"\"\"\n",
        "        ego_h   : [B, emb]             (query from ego LSTM)\n",
        "        other_h : [B, A-1, emb]        (other-agent encodings)\n",
        "        rel_pos : [B, A-1, 3]          (dx, dy, dist)\n",
        "        rel_vel : [B, A-1, 2]          (dvx, dvy)\n",
        "        \"\"\"\n",
        "        B, N, _ = other_h.shape\n",
        "\n",
        "        # Enhanced distance-based masking with soft falloff\n",
        "        distances = rel_pos[..., 2]\n",
        "        mask = distances <= self.radius\n",
        "\n",
        "        if mask.sum() == 0:\n",
        "            return torch.zeros_like(other_h[:, 0])  # Return zero context\n",
        "\n",
        "        # Combine relative position and velocity\n",
        "        rel_features = torch.cat([rel_pos, rel_vel], dim=-1)  # [B, N, 5]\n",
        "\n",
        "        # Enhanced K, V with positional encoding\n",
        "        pos_enc = self.pos_encoding(rel_features)\n",
        "        kv_input = other_h + pos_enc  # Residual connection with position\n",
        "\n",
        "        q = self.q_proj(ego_h).view(B, 1, self.heads, self.head_dim)\n",
        "        k = self.k_proj(torch.cat([kv_input, rel_features], dim=-1)).view(B, N, self.heads, self.head_dim)\n",
        "        v = self.v_proj(torch.cat([kv_input, rel_features], dim=-1)).view(B, N, self.heads, self.head_dim)\n",
        "\n",
        "        # Scaled dot-product attention with improved masking\n",
        "        attn = torch.einsum('bqhd,bnhd->bnhq', q, k) / (self.head_dim ** 0.5)\n",
        "\n",
        "        # Distance-aware attention weighting\n",
        "        distance_weight = torch.exp(-distances / (self.radius / 3)).unsqueeze(-1).unsqueeze(-1)\n",
        "        attn = attn * distance_weight\n",
        "\n",
        "        attn = attn.masked_fill(~mask.unsqueeze(-1).unsqueeze(-1), -1e9)\n",
        "        attn = F.softmax(attn, dim=1)\n",
        "        attn = self.dropout(attn)\n",
        "\n",
        "        ctx = torch.einsum('bnhq,bnhd->bqhd', attn, v).flatten(2)\n",
        "        return self.out(ctx.squeeze(1))\n",
        "\n",
        "class NoPolynomialLSTMParametricTrajectoryFeatures(nn.Module):\n",
        "    def __init__(self,\n",
        "                 input_dim=9,\n",
        "                 emb_dim=128,\n",
        "                 hidden_dim=256,\n",
        "                 lstm_layers=2,\n",
        "                 degree=3,\n",
        "                 social_heads=8,\n",
        "                 radius=35.0,\n",
        "                 other_rnn_dim=256):\n",
        "        super().__init__()\n",
        "        self.degree = degree\n",
        "        self.hidden_dim = hidden_dim\n",
        "\n",
        "        # Enhanced ego network with bidirectional LSTM\n",
        "        self.emb = nn.Linear(input_dim, emb_dim)\n",
        "        self.norm = nn.LayerNorm(emb_dim)\n",
        "        self.ego_lstm = nn.LSTM(emb_dim, hidden_dim,\n",
        "                                batch_first=True, num_layers=lstm_layers,\n",
        "                                bidirectional=True, dropout=0.1)\n",
        "\n",
        "        # Project bidirectional output back to hidden_dim\n",
        "        self.ego_proj = nn.Linear(hidden_dim * 2, hidden_dim)\n",
        "\n",
        "        # Enhanced other-agent encoder\n",
        "        self.other_emb = nn.Linear(input_dim, other_rnn_dim)\n",
        "        self.other_norm = nn.LayerNorm(other_rnn_dim)\n",
        "        self.other_gru = nn.GRU(other_rnn_dim, other_rnn_dim,\n",
        "                                batch_first=True, num_layers=2, dropout=0.1)\n",
        "\n",
        "        # Improved social attention\n",
        "        self.social_attn = ImprovedSocialAttention(\n",
        "            ego_dim=hidden_dim, other_dim=other_rnn_dim,\n",
        "            radius=radius, heads=social_heads\n",
        "        )\n",
        "\n",
        "        # Enhanced fusion network\n",
        "        self.fuse = nn.Sequential(\n",
        "            nn.Linear(hidden_dim + other_rnn_dim, hidden_dim),\n",
        "            nn.LayerNorm(hidden_dim),\n",
        "            nn.ReLU(),\n",
        "            nn.Dropout(0.1),\n",
        "            nn.Linear(hidden_dim, hidden_dim),\n",
        "            nn.ReLU(),\n",
        "        )\n",
        "\n",
        "        # # Separate heads for x and y coefficients\n",
        "        # self.fc_x = nn.Linear(hidden_dim, degree + 1)\n",
        "        # self.fc_y = nn.Linear(hidden_dim, degree + 1)\n",
        "        self.output_fc = nn.Linear(hidden_dim, 60*2)\n",
        "\n",
        "    def enhanced_featurize(self, raw):\n",
        "        \"\"\"Enhanced feature engineering\"\"\"\n",
        "        xp, yp, vx, vy, hd = (raw[..., i] for i in range(5))\n",
        "\n",
        "        # Basic features\n",
        "        cos_h = torch.cos(hd)\n",
        "        sin_h = torch.sin(hd)\n",
        "        speed = torch.sqrt(vx**2 + vy**2 + 1e-6)\n",
        "\n",
        "        # Enhanced features\n",
        "        # Acceleration (finite difference)\n",
        "        ax = torch.cat([torch.zeros_like(vx[..., :1]), vx[..., 1:] - vx[..., :-1]], dim=-1)\n",
        "        ay = torch.cat([torch.zeros_like(vy[..., :1]), vy[..., 1:] - vy[..., :-1]], dim=-1)\n",
        "\n",
        "        # Angular velocity (handle angle wrapping manually)\n",
        "        hd_diff = hd[..., 1:] - hd[..., :-1]\n",
        "        # Handle angle wrapping: if difference > pi, subtract 2*pi; if < -pi, add 2*pi\n",
        "        hd_diff = torch.where(hd_diff > torch.pi, hd_diff - 2*torch.pi, hd_diff)\n",
        "        hd_diff = torch.where(hd_diff < -torch.pi, hd_diff + 2*torch.pi, hd_diff)\n",
        "        angular_vel = torch.cat([torch.zeros_like(hd[..., :1]), hd_diff], dim=-1)\n",
        "\n",
        "        return torch.stack([xp, yp, vx, vy, cos_h, sin_h, speed, ax, ay], dim=-1)\n",
        "\n",
        "    def forward(self, data):\n",
        "        x = data.x.reshape(-1, 50, 50, 6)\n",
        "        ego_raw = x[:, 0]                    # [B, 50, 6]\n",
        "        others_raw = x[:, 1:]                # [B, A-1, 50, 6]\n",
        "        B, A1, T, _ = others_raw.shape\n",
        "\n",
        "        # Enhanced feature engineering\n",
        "        ego_feat = self.enhanced_featurize(ego_raw)         # [B, 50, 9]\n",
        "        others_feat = self.enhanced_featurize(\n",
        "            others_raw.reshape(B*A1, T, 6)\n",
        "        ).reshape(B, A1, T, -1)                             # [B, A-1, 50, 9]\n",
        "\n",
        "        # Encode ego with bidirectional LSTM\n",
        "        ego_emb = self.norm(self.emb(ego_feat))\n",
        "        ego_out, (ego_h, _) = self.ego_lstm(ego_emb)\n",
        "\n",
        "        # Use final hidden state from both directions\n",
        "        ego_h = self.ego_proj(ego_h[-2:].transpose(0, 1).flatten(1))  # [B, hidden_dim]\n",
        "\n",
        "        # Enhanced other-agent encoding\n",
        "        other_emb = self.other_norm(self.other_emb(others_feat.view(B*A1, T, -1)))\n",
        "        _, other_h = self.other_gru(other_emb)\n",
        "        other_h = other_h[-1].view(B, A1, -1)               # [B, A-1, other_rnn_dim]\n",
        "\n",
        "        # Enhanced relative features\n",
        "        ego_last = ego_feat[:, -1, :2].unsqueeze(1)         # [B, 1, 2]\n",
        "        other_last = others_feat[:, :, -1, :2]              # [B, A-1, 2]\n",
        "        rel_pos_vec = other_last - ego_last                 # [B, A-1, 2]\n",
        "        dist = torch.norm(rel_pos_vec, dim=-1, keepdim=True)\n",
        "        rel_pos = torch.cat([rel_pos_vec, dist], dim=-1)   # [B, A-1, 3]\n",
        "\n",
        "        # Relative velocity\n",
        "        ego_vel = ego_feat[:, -1, 2:4].unsqueeze(1)         # [B, 1, 2]\n",
        "        other_vel = others_feat[:, :, -1, 2:4]              # [B, A-1, 2]\n",
        "        rel_vel = other_vel - ego_vel                       # [B, A-1, 2]\n",
        "\n",
        "        # Social attention with relative velocity\n",
        "        social_ctx = self.social_attn(ego_h, other_h, rel_pos, rel_vel)\n",
        "\n",
        "        # Enhanced fusion\n",
        "        fused = self.fuse(torch.cat([ego_h, social_ctx], dim=-1))\n",
        "\n",
        "        # Direct output layer\n",
        "        output = self.output_fc(fused)\n",
        "        return output.view(-1, 60, 2)\n"
      ],
      "metadata": {
        "id": "nqHZmUFlQ7X0"
      },
      "execution_count": 38,
      "outputs": []
    },
    {
      "cell_type": "code",
      "source": [
        "class MLP(nn.Module):\n",
        "    def __init__(self, input_features, output_features):\n",
        "        super(MLP, self).__init__()\n",
        "\n",
        "        # Define the layers\n",
        "        self.flatten = nn.Flatten()\n",
        "        self.mlp = nn.Sequential(\n",
        "            nn.Linear(input_features, 1024),\n",
        "            nn.ReLU(),\n",
        "            nn.Dropout(0.1),\n",
        "\n",
        "            nn.Linear(1024, 512),\n",
        "            nn.ReLU(),\n",
        "            nn.Dropout(0.1),\n",
        "\n",
        "            nn.Linear(512, 256),\n",
        "            nn.ReLU(),\n",
        "            nn.Dropout(0.1),\n",
        "\n",
        "            nn.Linear(256, output_features)\n",
        "        )\n",
        "\n",
        "    def forward(self, data):\n",
        "        x = data.x\n",
        "        x = x.reshape(-1, 50, 50, 6)\n",
        "        x = x[:, 0, :, :]\n",
        "        x = self.flatten(x)\n",
        "        x = self.mlp(x)\n",
        "        return x.view(-1, 60, 2)"
      ],
      "metadata": {
        "id": "wN86fLYgPOlQ"
      },
      "execution_count": 56,
      "outputs": []
    },
    {
      "cell_type": "code",
      "source": [
        "class LSTM(nn.Module):\n",
        "    def __init__(self, input_dim=6, hidden_dim=256, output_dim=60 * 2):\n",
        "        super(LSTM, self).__init__()\n",
        "        self.lstm = nn.LSTM(input_dim, hidden_dim, batch_first=True, num_layers=2)\n",
        "        self.fc = nn.Linear(hidden_dim, output_dim)\n",
        "\n",
        "    def forward(self, data):\n",
        "        x = data.x\n",
        "        x= x.reshape(-1, 50, 50, 6)  # (batch_size, num_agents, seq_len, input_dim)\n",
        "        x = x[:, 0, :, :] # Only Consider ego agent index 0\n",
        "\n",
        "        lstm_out, _ = self.lstm(x)\n",
        "        # lstm_out is of shape (batch_size, seq_len, hidden_dim) and we want the last time step output\n",
        "        out = self.fc(lstm_out[:, -1, :])\n",
        "        return out.view(-1, 60, 2)"
      ],
      "metadata": {
        "id": "L9QawQriTLWw"
      },
      "execution_count": 16,
      "outputs": []
    },
    {
      "cell_type": "code",
      "source": [
        "class Transformer(nn.Module):\n",
        "    def __init__(self, input_dim=6, emb_dim=128, nhead=8, num_layers=6, output_dim=60 * 2):\n",
        "        super().__init__()\n",
        "        self.input_fc = nn.Linear(input_dim, emb_dim)\n",
        "\n",
        "        encoder_layer = nn.TransformerEncoderLayer(\n",
        "            d_model=emb_dim,\n",
        "            nhead=nhead,\n",
        "            dim_feedforward=256,\n",
        "            batch_first=True\n",
        "        )\n",
        "        self.encoder = nn.TransformerEncoder(encoder_layer, num_layers=num_layers)\n",
        "        self.output_fc = nn.Linear(emb_dim, output_dim)\n",
        "\n",
        "    def forward(self, data):\n",
        "        x = data.x\n",
        "        x = x.reshape(-1, 50, 50, 6)\n",
        "        x = x[:, 0, :, :]\n",
        "\n",
        "        emb = self.input_fc(x)\n",
        "        enc_out = self.encoder(emb)\n",
        "        final_hidden = enc_out[:, -1, :]\n",
        "\n",
        "        out = self.output_fc(final_hidden)\n",
        "        return out.view(-1, 60, 2)\n"
      ],
      "metadata": {
        "id": "ApchN3DAPRuT"
      },
      "execution_count": 65,
      "outputs": []
    },
    {
      "cell_type": "markdown",
      "metadata": {
        "id": "1SPd9wIpjKmz"
      },
      "source": [
        "#### Your Optimizer and Hyperparameters for Question 2 Problem A (Try to use different optimizers and hyperparameters for your model and see how it affects the performance of your model)"
      ]
    },
    {
      "cell_type": "code",
      "source": [
        "class TrajectoryLoss(nn.Module):\n",
        "    def __init__(self, loss_type='weighted', weight_scheme='linear', **kwargs):\n",
        "        super().__init__()\n",
        "        self.loss_type = loss_type\n",
        "        self.weight_scheme = weight_scheme\n",
        "        self.kwargs = kwargs\n",
        "\n",
        "    def forward(self, pred, target):\n",
        "        if self.loss_type == 'standard':\n",
        "            return nn.MSELoss()(pred, target)\n",
        "\n",
        "        elif self.loss_type == 'weighted':\n",
        "            if self.weight_scheme == 'linear':\n",
        "                start_weight = self.kwargs.get('start_weight', 1.0)\n",
        "                end_weight = self.kwargs.get('end_weight', 2.0)\n",
        "                weights = torch.linspace(start_weight, end_weight, 60, device=pred.device)\n",
        "\n",
        "            elif self.weight_scheme == 'quadratic':\n",
        "                start_weight = self.kwargs.get('start_weight', 1.0)\n",
        "                end_weight = self.kwargs.get('end_weight', 2.0)\n",
        "                # Create quadratic progression from start_weight to end_weight\n",
        "                t = torch.linspace(0, 1, 60, device=pred.device)\n",
        "                weights = start_weight + (end_weight - start_weight) * t ** 2\n",
        "\n",
        "            elif self.weight_scheme == 'exponential':\n",
        "                start_weight = self.kwargs.get('start_weight', 1.0)\n",
        "                end_weight = self.kwargs.get('end_weight', 2.0)\n",
        "                # Exponential growth from start to end\n",
        "                t = torch.linspace(0, 1, 60, device=pred.device)\n",
        "                weights = start_weight * (end_weight / start_weight) ** t\n",
        "\n",
        "            weights = weights.view(1, -1, 1)\n",
        "            return ((pred - target) ** 2 * weights).mean()"
      ],
      "metadata": {
        "id": "t3BGiHJ8wwAF"
      },
      "execution_count": 18,
      "outputs": []
    },
    {
      "cell_type": "code",
      "execution_count": 70,
      "metadata": {
        "id": "hGlM0tnkjKmz"
      },
      "outputs": [],
      "source": [
        "from torch.optim import AdamW\n",
        "from torch.optim.lr_scheduler import CosineAnnealingLR\n",
        "\n",
        "\n",
        "model = ImprovedLSTMParametricTrajectoryFeatures(degree=3, lstm_layers=2, other_rnn_dim=256).to(device)\n",
        "\n",
        "\n",
        "\n",
        "\n",
        "\n",
        "optimizer = AdamW(model.parameters(), lr=2e-4, weight_decay=1e-4)\n",
        "\n",
        "scheduler = torch.optim.lr_scheduler.ReduceLROnPlateau(optimizer, mode='min', factor=0.5, patience=3, verbose=True)\n",
        "\n",
        "#scheduler = CosineAnnealingLR(optimizer, T_max=80, eta_min=1e-6)\n",
        "#scheduler = optim.lr_scheduler.StepLR(optimizer, step_size=20, gamma=0.25) # You can try different schedulers\n",
        "early_stopping_patience = 12\n",
        "best_val_loss = float('inf')\n",
        "no_improvement = 0\n",
        "#criterion = nn.MSELoss()\n",
        "criterion = TrajectoryLoss()"
      ]
    },
    {
      "cell_type": "markdown",
      "metadata": {
        "id": "5kjlFPE2jKm0"
      },
      "source": [
        "#### Using the Simple Linear Regression Model for Question 2B and Visualize the validation loss(MAE) (Hint: You should adapt the code for training loss and try to draw graphs as specified in the project description)"
      ]
    },
    {
      "cell_type": "code",
      "source": [
        "# Initialize model tracking variables\n",
        "best_models = {\n",
        "    'first': {'loss': float('inf'), 'path': 'best_model_1st.pt'},\n",
        "    'second': {'loss': float('inf'), 'path': 'best_model_2nd.pt'},\n",
        "    'third': {'loss': float('inf'), 'path': 'best_model_3rd.pt'}\n",
        "}\n",
        "\n",
        "def update_best_models(current_loss, model_state_dict):\n",
        "    \"\"\"\n",
        "    Update the top 3 models if current model beats the best model.\n",
        "    Only stores a new model if it beats the current best (first place).\n",
        "    \"\"\"\n",
        "    if current_loss < best_models['first']['loss'] - 1e-4:\n",
        "        # New model beats the best - shift everything down\n",
        "\n",
        "        # Step 1: Load old first and second (before any overwrite)\n",
        "        old_first_state = None\n",
        "        if best_models['first']['loss'] != float('inf'):\n",
        "            old_first_state = torch.load(best_models['first']['path'])\n",
        "\n",
        "        old_second_state = None\n",
        "        if best_models['second']['loss'] != float('inf'):\n",
        "            old_second_state = torch.load(best_models['second']['path'])\n",
        "\n",
        "        # Step 2: Save old second -> third\n",
        "        if old_second_state is not None:\n",
        "            torch.save(old_second_state, best_models['third']['path'])\n",
        "            best_models['third']['loss'] = best_models['second']['loss']\n",
        "\n",
        "        # Step 3: Save old first -> second\n",
        "        if old_first_state is not None:\n",
        "            torch.save(old_first_state, best_models['second']['path'])\n",
        "            best_models['second']['loss'] = best_models['first']['loss']\n",
        "\n",
        "        # Step 4: Save current -> first\n",
        "        torch.save(model_state_dict, best_models['first']['path'])\n",
        "        best_models['first']['loss'] = current_loss\n",
        "\n",
        "        return True\n",
        "\n",
        "    return False\n",
        "\n",
        "\n",
        "# Training loop\n",
        "no_improvement = 0\n",
        "early_stopping_patience = 12\n",
        "\n",
        "for epoch in tqdm.tqdm(range(110), desc=\"Epoch\", unit=\"epoch\"):\n",
        "    # ---- Training ----\n",
        "    model.train()\n",
        "    train_loss = 0\n",
        "    for batch in train_dataloader:\n",
        "        batch = batch.to(device)\n",
        "        pred = model(batch)\n",
        "        y = batch.y.view(batch.num_graphs, 60, 2)\n",
        "        loss = criterion(pred, y)\n",
        "        optimizer.zero_grad()\n",
        "        loss.backward()\n",
        "        torch.nn.utils.clip_grad_norm_(model.parameters(), 5.0)\n",
        "        optimizer.step()\n",
        "        train_loss += loss.item()\n",
        "\n",
        "    # ---- Validation ----\n",
        "    model.eval()\n",
        "    val_loss = 0\n",
        "    val_mae = 0\n",
        "    val_mse = 0\n",
        "    with torch.no_grad():\n",
        "        for batch in val_dataloader:\n",
        "            batch = batch.to(device)\n",
        "            pred = model(batch)\n",
        "            y = batch.y.view(batch.num_graphs, 60, 2)\n",
        "            val_loss += criterion(pred, y).item()\n",
        "\n",
        "            # show MAE and MSE with unnormalized data\n",
        "            pred = pred * batch.scale.view(-1, 1, 1) + batch.origin.unsqueeze(1)\n",
        "            y = y * batch.scale.view(-1, 1, 1) + batch.origin.unsqueeze(1)\n",
        "            val_mae += nn.L1Loss()(pred, y).item()\n",
        "            val_mse += nn.MSELoss()(pred, y).item()\n",
        "\n",
        "    train_loss /= len(train_dataloader)\n",
        "    val_loss /= len(val_dataloader)\n",
        "    val_mae /= len(val_dataloader)\n",
        "    val_mse /= len(val_dataloader)\n",
        "    improved_train.append(train_loss)\n",
        "    improved_val.append(val_mse)\n",
        "    # ego_only_train.append(train_loss)\n",
        "    # ego_only_val.append(val_mse)\n",
        "    # no_poly_train.append(train_loss)\n",
        "    # no_poly_val.append(val_mse)\n",
        "    # mlp_train.append(train_loss)\n",
        "    # mlp_val.append(val_mse)\n",
        "    # lstm_train.append(train_loss)\n",
        "    # lstm_val.append(val_mse)\n",
        "    # transformer_train.append(train_loss)\n",
        "    # transformer_val.append(val_mse)\n",
        "    scheduler.step(val_loss)\n",
        "\n",
        "    tqdm.tqdm.write(f\"Epoch {epoch:03d} | Learning rate {optimizer.param_groups[0]['lr']:.6f} | train normalized MSE {train_loss:8.4f} | val normalized MSE {val_loss:8.4f}, | val MAE {val_mae:8.4f} | val MSE {val_mse:8.4f}\")\n",
        "\n",
        "    # Update best models - only stores if it beats the current best\n",
        "    model_stored = update_best_models(val_loss, model.state_dict())\n",
        "\n",
        "    if model_stored:\n",
        "        no_improvement = 0\n",
        "        tqdm.tqdm.write(f\"New best model saved! Current ranking losses: 1st: {best_models['first']['loss']:.6f}, 2nd: {best_models['second']['loss']:.6f}, 3rd: {best_models['third']['loss']:.6f}\")\n",
        "    else:\n",
        "        no_improvement += 1\n",
        "        if no_improvement >= early_stopping_patience:\n",
        "            print(\"Early stop!\")\n",
        "            break\n",
        "\n",
        "# At the end, you can load any of the top 3 models:\n",
        "print(\"\\nFinal model rankings:\")\n",
        "print(f\"1st place (best): {best_models['first']['loss']:.6f} - {best_models['first']['path']}\")\n",
        "print(f\"2nd place: {best_models['second']['loss']:.6f} - {best_models['second']['path']}\")\n",
        "print(f\"3rd place: {best_models['third']['loss']:.6f} - {best_models['third']['path']}\")\n",
        "\n",
        "# To load the best model:\n",
        "# model.load_state_dict(torch.load(best_models['first']['path']))\n",
        "\n",
        "# To load the 2nd best model:\n",
        "# model.load_state_dict(torch.load(best_models['second']['path']))"
      ],
      "metadata": {
        "id": "B8H3sUJemxqz",
        "colab": {
          "base_uri": "https://localhost:8080/",
          "height": 1000
        },
        "outputId": "b9a13071-5e56-4677-9e71-369974a06a91"
      },
      "execution_count": 71,
      "outputs": [
        {
          "output_type": "stream",
          "name": "stderr",
          "text": [
            "\rEpoch:   0%|          | 0/110 [00:00<?, ?epoch/s]<ipython-input-8-4076418191>:48: DeprecationWarning: __array_wrap__ must accept context and return_scalar arguments (positionally) in the future. (Deprecated NumPy 2.0)\n",
            "  future = future - origin\n",
            "Epoch:   1%|          | 1/110 [00:50<1:30:57, 50.07s/epoch]"
          ]
        },
        {
          "output_type": "stream",
          "name": "stdout",
          "text": [
            "Epoch 000 | Learning rate 0.000200 | train normalized MSE   0.6694 | val normalized MSE   0.3286, | val MAE   2.2632 | val MSE  18.2890\n",
            "New best model saved! Current ranking losses: 1st: 0.328625, 2nd: inf, 3rd: inf\n"
          ]
        },
        {
          "output_type": "stream",
          "name": "stderr",
          "text": [
            "Epoch:   2%|▏         | 2/110 [01:39<1:29:16, 49.60s/epoch]"
          ]
        },
        {
          "output_type": "stream",
          "name": "stdout",
          "text": [
            "Epoch 001 | Learning rate 0.000200 | train normalized MSE   0.3314 | val normalized MSE   0.2682, | val MAE   1.9439 | val MSE  14.8069\n",
            "New best model saved! Current ranking losses: 1st: 0.268151, 2nd: 0.328625, 3rd: inf\n"
          ]
        },
        {
          "output_type": "stream",
          "name": "stderr",
          "text": [
            "Epoch:   3%|▎         | 3/110 [02:29<1:28:31, 49.64s/epoch]"
          ]
        },
        {
          "output_type": "stream",
          "name": "stdout",
          "text": [
            "Epoch 002 | Learning rate 0.000200 | train normalized MSE   0.2812 | val normalized MSE   0.2944, | val MAE   2.1351 | val MSE  16.3024\n"
          ]
        },
        {
          "output_type": "stream",
          "name": "stderr",
          "text": [
            "Epoch:   4%|▎         | 4/110 [03:18<1:27:40, 49.63s/epoch]"
          ]
        },
        {
          "output_type": "stream",
          "name": "stdout",
          "text": [
            "Epoch 003 | Learning rate 0.000200 | train normalized MSE   0.2503 | val normalized MSE   0.2198, | val MAE   1.8193 | val MSE  12.0922\n",
            "New best model saved! Current ranking losses: 1st: 0.219838, 2nd: 0.268151, 3rd: 0.328625\n"
          ]
        },
        {
          "output_type": "stream",
          "name": "stderr",
          "text": [
            "Epoch:   5%|▍         | 5/110 [04:08<1:26:47, 49.59s/epoch]"
          ]
        },
        {
          "output_type": "stream",
          "name": "stdout",
          "text": [
            "Epoch 004 | Learning rate 0.000200 | train normalized MSE   0.2248 | val normalized MSE   0.2524, | val MAE   1.9262 | val MSE  13.9883\n"
          ]
        },
        {
          "output_type": "stream",
          "name": "stderr",
          "text": [
            "Epoch:   5%|▌         | 6/110 [04:57<1:26:00, 49.62s/epoch]"
          ]
        },
        {
          "output_type": "stream",
          "name": "stdout",
          "text": [
            "Epoch 005 | Learning rate 0.000200 | train normalized MSE   0.2194 | val normalized MSE   0.1872, | val MAE   1.5414 | val MSE  10.3032\n",
            "New best model saved! Current ranking losses: 1st: 0.187217, 2nd: 0.219838, 3rd: 0.268151\n"
          ]
        },
        {
          "output_type": "stream",
          "name": "stderr",
          "text": [
            "Epoch:   6%|▋         | 7/110 [05:47<1:25:08, 49.60s/epoch]"
          ]
        },
        {
          "output_type": "stream",
          "name": "stdout",
          "text": [
            "Epoch 006 | Learning rate 0.000200 | train normalized MSE   0.2082 | val normalized MSE   0.1898, | val MAE   1.6170 | val MSE  10.4749\n"
          ]
        },
        {
          "output_type": "stream",
          "name": "stderr",
          "text": [
            "Epoch:   7%|▋         | 8/110 [06:37<1:24:31, 49.72s/epoch]"
          ]
        },
        {
          "output_type": "stream",
          "name": "stdout",
          "text": [
            "Epoch 007 | Learning rate 0.000200 | train normalized MSE   0.1942 | val normalized MSE   0.2621, | val MAE   1.8961 | val MSE  14.5359\n"
          ]
        },
        {
          "output_type": "stream",
          "name": "stderr",
          "text": [
            "Epoch:   8%|▊         | 9/110 [07:27<1:23:43, 49.74s/epoch]"
          ]
        },
        {
          "output_type": "stream",
          "name": "stdout",
          "text": [
            "Epoch 008 | Learning rate 0.000200 | train normalized MSE   0.1900 | val normalized MSE   0.1724, | val MAE   1.5321 | val MSE   9.5313\n",
            "New best model saved! Current ranking losses: 1st: 0.172390, 2nd: 0.187217, 3rd: 0.219838\n"
          ]
        },
        {
          "output_type": "stream",
          "name": "stderr",
          "text": [
            "Epoch:   9%|▉         | 10/110 [08:16<1:22:52, 49.73s/epoch]"
          ]
        },
        {
          "output_type": "stream",
          "name": "stdout",
          "text": [
            "Epoch 009 | Learning rate 0.000200 | train normalized MSE   0.1724 | val normalized MSE   0.1408, | val MAE   1.2293 | val MSE   7.7126\n",
            "New best model saved! Current ranking losses: 1st: 0.140821, 2nd: 0.172390, 3rd: 0.187217\n"
          ]
        },
        {
          "output_type": "stream",
          "name": "stderr",
          "text": [
            "Epoch:  10%|█         | 11/110 [09:06<1:22:05, 49.76s/epoch]"
          ]
        },
        {
          "output_type": "stream",
          "name": "stdout",
          "text": [
            "Epoch 010 | Learning rate 0.000200 | train normalized MSE   0.1708 | val normalized MSE   0.1572, | val MAE   1.4146 | val MSE   8.6488\n"
          ]
        },
        {
          "output_type": "stream",
          "name": "stderr",
          "text": [
            "Epoch:  11%|█         | 12/110 [09:56<1:21:16, 49.76s/epoch]"
          ]
        },
        {
          "output_type": "stream",
          "name": "stdout",
          "text": [
            "Epoch 011 | Learning rate 0.000200 | train normalized MSE   0.1646 | val normalized MSE   0.1528, | val MAE   1.3458 | val MSE   8.3910\n"
          ]
        },
        {
          "output_type": "stream",
          "name": "stderr",
          "text": [
            "Epoch:  12%|█▏        | 13/110 [10:46<1:20:32, 49.82s/epoch]"
          ]
        },
        {
          "output_type": "stream",
          "name": "stdout",
          "text": [
            "Epoch 012 | Learning rate 0.000200 | train normalized MSE   0.1623 | val normalized MSE   0.1635, | val MAE   1.4063 | val MSE   9.0069\n"
          ]
        },
        {
          "output_type": "stream",
          "name": "stderr",
          "text": [
            "Epoch:  13%|█▎        | 14/110 [11:35<1:19:35, 49.74s/epoch]"
          ]
        },
        {
          "output_type": "stream",
          "name": "stdout",
          "text": [
            "Epoch 013 | Learning rate 0.000100 | train normalized MSE   0.1535 | val normalized MSE   0.1480, | val MAE   1.4491 | val MSE   8.1354\n"
          ]
        },
        {
          "output_type": "stream",
          "name": "stderr",
          "text": [
            "Epoch:  14%|█▎        | 15/110 [12:25<1:18:47, 49.76s/epoch]"
          ]
        },
        {
          "output_type": "stream",
          "name": "stdout",
          "text": [
            "Epoch 014 | Learning rate 0.000100 | train normalized MSE   0.1376 | val normalized MSE   0.1298, | val MAE   1.1825 | val MSE   7.1081\n",
            "New best model saved! Current ranking losses: 1st: 0.129792, 2nd: 0.140821, 3rd: 0.172390\n"
          ]
        },
        {
          "output_type": "stream",
          "name": "stderr",
          "text": [
            "Epoch:  15%|█▍        | 16/110 [13:15<1:18:00, 49.79s/epoch]"
          ]
        },
        {
          "output_type": "stream",
          "name": "stdout",
          "text": [
            "Epoch 015 | Learning rate 0.000100 | train normalized MSE   0.1368 | val normalized MSE   0.1423, | val MAE   1.2993 | val MSE   7.8174\n"
          ]
        },
        {
          "output_type": "stream",
          "name": "stderr",
          "text": [
            "Epoch:  15%|█▌        | 17/110 [14:05<1:17:14, 49.83s/epoch]"
          ]
        },
        {
          "output_type": "stream",
          "name": "stdout",
          "text": [
            "Epoch 016 | Learning rate 0.000100 | train normalized MSE   0.1348 | val normalized MSE   0.1431, | val MAE   1.2520 | val MSE   7.8480\n"
          ]
        },
        {
          "output_type": "stream",
          "name": "stderr",
          "text": [
            "Epoch:  16%|█▋        | 18/110 [14:55<1:16:30, 49.90s/epoch]"
          ]
        },
        {
          "output_type": "stream",
          "name": "stdout",
          "text": [
            "Epoch 017 | Learning rate 0.000100 | train normalized MSE   0.1364 | val normalized MSE   0.1270, | val MAE   1.1968 | val MSE   6.9526\n",
            "New best model saved! Current ranking losses: 1st: 0.126954, 2nd: 0.129792, 3rd: 0.140821\n"
          ]
        },
        {
          "output_type": "stream",
          "name": "stderr",
          "text": [
            "Epoch:  17%|█▋        | 19/110 [15:46<1:15:54, 50.05s/epoch]"
          ]
        },
        {
          "output_type": "stream",
          "name": "stdout",
          "text": [
            "Epoch 018 | Learning rate 0.000100 | train normalized MSE   0.1323 | val normalized MSE   0.1276, | val MAE   1.2215 | val MSE   6.9943\n"
          ]
        },
        {
          "output_type": "stream",
          "name": "stderr",
          "text": [
            "Epoch:  18%|█▊        | 20/110 [16:35<1:14:59, 49.99s/epoch]"
          ]
        },
        {
          "output_type": "stream",
          "name": "stdout",
          "text": [
            "Epoch 019 | Learning rate 0.000100 | train normalized MSE   0.1288 | val normalized MSE   0.1274, | val MAE   1.2135 | val MSE   6.9896\n"
          ]
        },
        {
          "output_type": "stream",
          "name": "stderr",
          "text": [
            "Epoch:  19%|█▉        | 21/110 [17:25<1:14:09, 49.99s/epoch]"
          ]
        },
        {
          "output_type": "stream",
          "name": "stdout",
          "text": [
            "Epoch 020 | Learning rate 0.000100 | train normalized MSE   0.1264 | val normalized MSE   0.1365, | val MAE   1.2189 | val MSE   7.4738\n"
          ]
        },
        {
          "output_type": "stream",
          "name": "stderr",
          "text": [
            "Epoch:  20%|██        | 22/110 [18:15<1:13:07, 49.86s/epoch]"
          ]
        },
        {
          "output_type": "stream",
          "name": "stdout",
          "text": [
            "Epoch 021 | Learning rate 0.000050 | train normalized MSE   0.1265 | val normalized MSE   0.1356, | val MAE   1.3218 | val MSE   7.4377\n"
          ]
        },
        {
          "output_type": "stream",
          "name": "stderr",
          "text": [
            "Epoch:  21%|██        | 23/110 [19:05<1:12:13, 49.81s/epoch]"
          ]
        },
        {
          "output_type": "stream",
          "name": "stdout",
          "text": [
            "Epoch 022 | Learning rate 0.000050 | train normalized MSE   0.1176 | val normalized MSE   0.1253, | val MAE   1.1618 | val MSE   6.8627\n",
            "New best model saved! Current ranking losses: 1st: 0.125341, 2nd: 0.126954, 3rd: 0.129792\n"
          ]
        },
        {
          "output_type": "stream",
          "name": "stderr",
          "text": [
            "Epoch:  22%|██▏       | 24/110 [19:54<1:11:19, 49.76s/epoch]"
          ]
        },
        {
          "output_type": "stream",
          "name": "stdout",
          "text": [
            "Epoch 023 | Learning rate 0.000050 | train normalized MSE   0.1162 | val normalized MSE   0.1228, | val MAE   1.2397 | val MSE   6.7362\n",
            "New best model saved! Current ranking losses: 1st: 0.122829, 2nd: 0.125341, 3rd: 0.126954\n"
          ]
        },
        {
          "output_type": "stream",
          "name": "stderr",
          "text": [
            "Epoch:  23%|██▎       | 25/110 [20:44<1:10:32, 49.79s/epoch]"
          ]
        },
        {
          "output_type": "stream",
          "name": "stdout",
          "text": [
            "Epoch 024 | Learning rate 0.000050 | train normalized MSE   0.1113 | val normalized MSE   0.1209, | val MAE   1.1220 | val MSE   6.6213\n",
            "New best model saved! Current ranking losses: 1st: 0.120919, 2nd: 0.122829, 3rd: 0.125341\n"
          ]
        },
        {
          "output_type": "stream",
          "name": "stderr",
          "text": [
            "Epoch:  24%|██▎       | 26/110 [21:34<1:09:34, 49.70s/epoch]"
          ]
        },
        {
          "output_type": "stream",
          "name": "stdout",
          "text": [
            "Epoch 025 | Learning rate 0.000050 | train normalized MSE   0.1131 | val normalized MSE   0.1204, | val MAE   1.1174 | val MSE   6.5892\n",
            "New best model saved! Current ranking losses: 1st: 0.120374, 2nd: 0.120919, 3rd: 0.122829\n"
          ]
        },
        {
          "output_type": "stream",
          "name": "stderr",
          "text": [
            "Epoch:  25%|██▍       | 27/110 [22:23<1:08:45, 49.71s/epoch]"
          ]
        },
        {
          "output_type": "stream",
          "name": "stdout",
          "text": [
            "Epoch 026 | Learning rate 0.000050 | train normalized MSE   0.1139 | val normalized MSE   0.1199, | val MAE   1.1326 | val MSE   6.5681\n",
            "New best model saved! Current ranking losses: 1st: 0.119924, 2nd: 0.120374, 3rd: 0.120919\n"
          ]
        },
        {
          "output_type": "stream",
          "name": "stderr",
          "text": [
            "Epoch:  25%|██▌       | 28/110 [23:13<1:07:52, 49.67s/epoch]"
          ]
        },
        {
          "output_type": "stream",
          "name": "stdout",
          "text": [
            "Epoch 027 | Learning rate 0.000050 | train normalized MSE   0.1115 | val normalized MSE   0.1203, | val MAE   1.1803 | val MSE   6.6007\n"
          ]
        },
        {
          "output_type": "stream",
          "name": "stderr",
          "text": [
            "Epoch:  26%|██▋       | 29/110 [24:03<1:07:07, 49.73s/epoch]"
          ]
        },
        {
          "output_type": "stream",
          "name": "stdout",
          "text": [
            "Epoch 028 | Learning rate 0.000050 | train normalized MSE   0.1111 | val normalized MSE   0.1165, | val MAE   1.1721 | val MSE   6.3904\n",
            "New best model saved! Current ranking losses: 1st: 0.116490, 2nd: 0.119924, 3rd: 0.120374\n"
          ]
        },
        {
          "output_type": "stream",
          "name": "stderr",
          "text": [
            "Epoch:  27%|██▋       | 30/110 [24:52<1:06:06, 49.58s/epoch]"
          ]
        },
        {
          "output_type": "stream",
          "name": "stdout",
          "text": [
            "Epoch 029 | Learning rate 0.000050 | train normalized MSE   0.1097 | val normalized MSE   0.1239, | val MAE   1.1499 | val MSE   6.7996\n"
          ]
        },
        {
          "output_type": "stream",
          "name": "stderr",
          "text": [
            "Epoch:  28%|██▊       | 31/110 [25:41<1:05:13, 49.54s/epoch]"
          ]
        },
        {
          "output_type": "stream",
          "name": "stdout",
          "text": [
            "Epoch 030 | Learning rate 0.000050 | train normalized MSE   0.1091 | val normalized MSE   0.1205, | val MAE   1.1810 | val MSE   6.6119\n"
          ]
        },
        {
          "output_type": "stream",
          "name": "stderr",
          "text": [
            "Epoch:  29%|██▉       | 32/110 [26:31<1:04:23, 49.53s/epoch]"
          ]
        },
        {
          "output_type": "stream",
          "name": "stdout",
          "text": [
            "Epoch 031 | Learning rate 0.000050 | train normalized MSE   0.1101 | val normalized MSE   0.1255, | val MAE   1.2353 | val MSE   6.8834\n"
          ]
        },
        {
          "output_type": "stream",
          "name": "stderr",
          "text": [
            "Epoch:  30%|███       | 33/110 [27:21<1:03:36, 49.56s/epoch]"
          ]
        },
        {
          "output_type": "stream",
          "name": "stdout",
          "text": [
            "Epoch 032 | Learning rate 0.000025 | train normalized MSE   0.1074 | val normalized MSE   0.1173, | val MAE   1.1273 | val MSE   6.4265\n"
          ]
        },
        {
          "output_type": "stream",
          "name": "stderr",
          "text": [
            "Epoch:  31%|███       | 34/110 [28:10<1:02:42, 49.51s/epoch]"
          ]
        },
        {
          "output_type": "stream",
          "name": "stdout",
          "text": [
            "Epoch 033 | Learning rate 0.000025 | train normalized MSE   0.1028 | val normalized MSE   0.1152, | val MAE   1.1460 | val MSE   6.3121\n",
            "New best model saved! Current ranking losses: 1st: 0.115196, 2nd: 0.116490, 3rd: 0.119924\n"
          ]
        },
        {
          "output_type": "stream",
          "name": "stderr",
          "text": [
            "Epoch:  32%|███▏      | 35/110 [28:59<1:01:52, 49.50s/epoch]"
          ]
        },
        {
          "output_type": "stream",
          "name": "stdout",
          "text": [
            "Epoch 034 | Learning rate 0.000025 | train normalized MSE   0.1006 | val normalized MSE   0.1165, | val MAE   1.1436 | val MSE   6.3921\n"
          ]
        },
        {
          "output_type": "stream",
          "name": "stderr",
          "text": [
            "Epoch:  33%|███▎      | 36/110 [29:49<1:01:04, 49.52s/epoch]"
          ]
        },
        {
          "output_type": "stream",
          "name": "stdout",
          "text": [
            "Epoch 035 | Learning rate 0.000025 | train normalized MSE   0.1007 | val normalized MSE   0.1194, | val MAE   1.1919 | val MSE   6.5601\n"
          ]
        },
        {
          "output_type": "stream",
          "name": "stderr",
          "text": [
            "Epoch:  34%|███▎      | 37/110 [30:39<1:00:21, 49.61s/epoch]"
          ]
        },
        {
          "output_type": "stream",
          "name": "stdout",
          "text": [
            "Epoch 036 | Learning rate 0.000025 | train normalized MSE   0.0993 | val normalized MSE   0.1136, | val MAE   1.1211 | val MSE   6.2238\n",
            "New best model saved! Current ranking losses: 1st: 0.113592, 2nd: 0.115196, 3rd: 0.116490\n"
          ]
        },
        {
          "output_type": "stream",
          "name": "stderr",
          "text": [
            "Epoch:  35%|███▍      | 38/110 [31:28<59:26, 49.53s/epoch]  "
          ]
        },
        {
          "output_type": "stream",
          "name": "stdout",
          "text": [
            "Epoch 037 | Learning rate 0.000025 | train normalized MSE   0.0996 | val normalized MSE   0.1160, | val MAE   1.1242 | val MSE   6.3612\n"
          ]
        },
        {
          "output_type": "stream",
          "name": "stderr",
          "text": [
            "Epoch:  35%|███▌      | 39/110 [32:18<58:37, 49.54s/epoch]"
          ]
        },
        {
          "output_type": "stream",
          "name": "stdout",
          "text": [
            "Epoch 038 | Learning rate 0.000025 | train normalized MSE   0.0979 | val normalized MSE   0.1133, | val MAE   1.1124 | val MSE   6.2112\n",
            "New best model saved! Current ranking losses: 1st: 0.113338, 2nd: 0.113592, 3rd: 0.115196\n"
          ]
        },
        {
          "output_type": "stream",
          "name": "stderr",
          "text": [
            "Epoch:  36%|███▋      | 40/110 [33:07<57:45, 49.50s/epoch]"
          ]
        },
        {
          "output_type": "stream",
          "name": "stdout",
          "text": [
            "Epoch 039 | Learning rate 0.000025 | train normalized MSE   0.0981 | val normalized MSE   0.1141, | val MAE   1.1049 | val MSE   6.2534\n"
          ]
        },
        {
          "output_type": "stream",
          "name": "stderr",
          "text": [
            "Epoch:  37%|███▋      | 41/110 [33:57<57:00, 49.57s/epoch]"
          ]
        },
        {
          "output_type": "stream",
          "name": "stdout",
          "text": [
            "Epoch 040 | Learning rate 0.000025 | train normalized MSE   0.0980 | val normalized MSE   0.1239, | val MAE   1.1631 | val MSE   6.7977\n"
          ]
        },
        {
          "output_type": "stream",
          "name": "stderr",
          "text": [
            "Epoch:  38%|███▊      | 42/110 [34:46<56:06, 49.51s/epoch]"
          ]
        },
        {
          "output_type": "stream",
          "name": "stdout",
          "text": [
            "Epoch 041 | Learning rate 0.000025 | train normalized MSE   0.0965 | val normalized MSE   0.1201, | val MAE   1.1319 | val MSE   6.5850\n"
          ]
        },
        {
          "output_type": "stream",
          "name": "stderr",
          "text": [
            "Epoch:  39%|███▉      | 43/110 [35:36<55:22, 49.59s/epoch]"
          ]
        },
        {
          "output_type": "stream",
          "name": "stdout",
          "text": [
            "Epoch 042 | Learning rate 0.000013 | train normalized MSE   0.0961 | val normalized MSE   0.1150, | val MAE   1.1439 | val MSE   6.3075\n"
          ]
        },
        {
          "output_type": "stream",
          "name": "stderr",
          "text": [
            "Epoch:  40%|████      | 44/110 [36:26<54:30, 49.55s/epoch]"
          ]
        },
        {
          "output_type": "stream",
          "name": "stdout",
          "text": [
            "Epoch 043 | Learning rate 0.000013 | train normalized MSE   0.0938 | val normalized MSE   0.1136, | val MAE   1.1150 | val MSE   6.2291\n"
          ]
        },
        {
          "output_type": "stream",
          "name": "stderr",
          "text": [
            "Epoch:  41%|████      | 45/110 [37:15<53:42, 49.57s/epoch]"
          ]
        },
        {
          "output_type": "stream",
          "name": "stdout",
          "text": [
            "Epoch 044 | Learning rate 0.000013 | train normalized MSE   0.0922 | val normalized MSE   0.1166, | val MAE   1.1390 | val MSE   6.3943\n"
          ]
        },
        {
          "output_type": "stream",
          "name": "stderr",
          "text": [
            "Epoch:  42%|████▏     | 46/110 [38:04<52:44, 49.45s/epoch]"
          ]
        },
        {
          "output_type": "stream",
          "name": "stdout",
          "text": [
            "Epoch 045 | Learning rate 0.000013 | train normalized MSE   0.0917 | val normalized MSE   0.1172, | val MAE   1.1344 | val MSE   6.4295\n"
          ]
        },
        {
          "output_type": "stream",
          "name": "stderr",
          "text": [
            "Epoch:  43%|████▎     | 47/110 [38:54<51:58, 49.50s/epoch]"
          ]
        },
        {
          "output_type": "stream",
          "name": "stdout",
          "text": [
            "Epoch 046 | Learning rate 0.000013 | train normalized MSE   0.0926 | val normalized MSE   0.1127, | val MAE   1.1036 | val MSE   6.1750\n",
            "New best model saved! Current ranking losses: 1st: 0.112697, 2nd: 0.113338, 3rd: 0.113592\n"
          ]
        },
        {
          "output_type": "stream",
          "name": "stderr",
          "text": [
            "Epoch:  44%|████▎     | 48/110 [39:43<51:08, 49.49s/epoch]"
          ]
        },
        {
          "output_type": "stream",
          "name": "stdout",
          "text": [
            "Epoch 047 | Learning rate 0.000013 | train normalized MSE   0.0920 | val normalized MSE   0.1141, | val MAE   1.1083 | val MSE   6.2531\n"
          ]
        },
        {
          "output_type": "stream",
          "name": "stderr",
          "text": [
            "Epoch:  45%|████▍     | 49/110 [40:33<50:22, 49.55s/epoch]"
          ]
        },
        {
          "output_type": "stream",
          "name": "stdout",
          "text": [
            "Epoch 048 | Learning rate 0.000013 | train normalized MSE   0.0918 | val normalized MSE   0.1186, | val MAE   1.1451 | val MSE   6.5059\n"
          ]
        },
        {
          "output_type": "stream",
          "name": "stderr",
          "text": [
            "\rEpoch:  45%|████▍     | 49/110 [40:42<50:40, 49.85s/epoch]\n"
          ]
        },
        {
          "output_type": "error",
          "ename": "KeyboardInterrupt",
          "evalue": "",
          "traceback": [
            "\u001b[0;31m---------------------------------------------------------------------------\u001b[0m",
            "\u001b[0;31mKeyboardInterrupt\u001b[0m                         Traceback (most recent call last)",
            "\u001b[0;32m<ipython-input-71-138203179>\u001b[0m in \u001b[0;36m<cell line: 0>\u001b[0;34m()\u001b[0m\n\u001b[1;32m     52\u001b[0m     \u001b[0;32mfor\u001b[0m \u001b[0mbatch\u001b[0m \u001b[0;32min\u001b[0m \u001b[0mtrain_dataloader\u001b[0m\u001b[0;34m:\u001b[0m\u001b[0;34m\u001b[0m\u001b[0;34m\u001b[0m\u001b[0m\n\u001b[1;32m     53\u001b[0m         \u001b[0mbatch\u001b[0m \u001b[0;34m=\u001b[0m \u001b[0mbatch\u001b[0m\u001b[0;34m.\u001b[0m\u001b[0mto\u001b[0m\u001b[0;34m(\u001b[0m\u001b[0mdevice\u001b[0m\u001b[0;34m)\u001b[0m\u001b[0;34m\u001b[0m\u001b[0;34m\u001b[0m\u001b[0m\n\u001b[0;32m---> 54\u001b[0;31m         \u001b[0mpred\u001b[0m \u001b[0;34m=\u001b[0m \u001b[0mmodel\u001b[0m\u001b[0;34m(\u001b[0m\u001b[0mbatch\u001b[0m\u001b[0;34m)\u001b[0m\u001b[0;34m\u001b[0m\u001b[0;34m\u001b[0m\u001b[0m\n\u001b[0m\u001b[1;32m     55\u001b[0m         \u001b[0my\u001b[0m \u001b[0;34m=\u001b[0m \u001b[0mbatch\u001b[0m\u001b[0;34m.\u001b[0m\u001b[0my\u001b[0m\u001b[0;34m.\u001b[0m\u001b[0mview\u001b[0m\u001b[0;34m(\u001b[0m\u001b[0mbatch\u001b[0m\u001b[0;34m.\u001b[0m\u001b[0mnum_graphs\u001b[0m\u001b[0;34m,\u001b[0m \u001b[0;36m60\u001b[0m\u001b[0;34m,\u001b[0m \u001b[0;36m2\u001b[0m\u001b[0;34m)\u001b[0m\u001b[0;34m\u001b[0m\u001b[0;34m\u001b[0m\u001b[0m\n\u001b[1;32m     56\u001b[0m         \u001b[0mloss\u001b[0m \u001b[0;34m=\u001b[0m \u001b[0mcriterion\u001b[0m\u001b[0;34m(\u001b[0m\u001b[0mpred\u001b[0m\u001b[0;34m,\u001b[0m \u001b[0my\u001b[0m\u001b[0;34m)\u001b[0m\u001b[0;34m\u001b[0m\u001b[0;34m\u001b[0m\u001b[0m\n",
            "\u001b[0;32m/usr/local/lib/python3.11/dist-packages/torch/nn/modules/module.py\u001b[0m in \u001b[0;36m_wrapped_call_impl\u001b[0;34m(self, *args, **kwargs)\u001b[0m\n\u001b[1;32m   1737\u001b[0m             \u001b[0;32mreturn\u001b[0m \u001b[0mself\u001b[0m\u001b[0;34m.\u001b[0m\u001b[0m_compiled_call_impl\u001b[0m\u001b[0;34m(\u001b[0m\u001b[0;34m*\u001b[0m\u001b[0margs\u001b[0m\u001b[0;34m,\u001b[0m \u001b[0;34m**\u001b[0m\u001b[0mkwargs\u001b[0m\u001b[0;34m)\u001b[0m  \u001b[0;31m# type: ignore[misc]\u001b[0m\u001b[0;34m\u001b[0m\u001b[0;34m\u001b[0m\u001b[0m\n\u001b[1;32m   1738\u001b[0m         \u001b[0;32melse\u001b[0m\u001b[0;34m:\u001b[0m\u001b[0;34m\u001b[0m\u001b[0;34m\u001b[0m\u001b[0m\n\u001b[0;32m-> 1739\u001b[0;31m             \u001b[0;32mreturn\u001b[0m \u001b[0mself\u001b[0m\u001b[0;34m.\u001b[0m\u001b[0m_call_impl\u001b[0m\u001b[0;34m(\u001b[0m\u001b[0;34m*\u001b[0m\u001b[0margs\u001b[0m\u001b[0;34m,\u001b[0m \u001b[0;34m**\u001b[0m\u001b[0mkwargs\u001b[0m\u001b[0;34m)\u001b[0m\u001b[0;34m\u001b[0m\u001b[0;34m\u001b[0m\u001b[0m\n\u001b[0m\u001b[1;32m   1740\u001b[0m \u001b[0;34m\u001b[0m\u001b[0m\n\u001b[1;32m   1741\u001b[0m     \u001b[0;31m# torchrec tests the code consistency with the following code\u001b[0m\u001b[0;34m\u001b[0m\u001b[0;34m\u001b[0m\u001b[0m\n",
            "\u001b[0;32m/usr/local/lib/python3.11/dist-packages/torch/nn/modules/module.py\u001b[0m in \u001b[0;36m_call_impl\u001b[0;34m(self, *args, **kwargs)\u001b[0m\n\u001b[1;32m   1748\u001b[0m                 \u001b[0;32mor\u001b[0m \u001b[0m_global_backward_pre_hooks\u001b[0m \u001b[0;32mor\u001b[0m \u001b[0m_global_backward_hooks\u001b[0m\u001b[0;34m\u001b[0m\u001b[0;34m\u001b[0m\u001b[0m\n\u001b[1;32m   1749\u001b[0m                 or _global_forward_hooks or _global_forward_pre_hooks):\n\u001b[0;32m-> 1750\u001b[0;31m             \u001b[0;32mreturn\u001b[0m \u001b[0mforward_call\u001b[0m\u001b[0;34m(\u001b[0m\u001b[0;34m*\u001b[0m\u001b[0margs\u001b[0m\u001b[0;34m,\u001b[0m \u001b[0;34m**\u001b[0m\u001b[0mkwargs\u001b[0m\u001b[0;34m)\u001b[0m\u001b[0;34m\u001b[0m\u001b[0;34m\u001b[0m\u001b[0m\n\u001b[0m\u001b[1;32m   1751\u001b[0m \u001b[0;34m\u001b[0m\u001b[0m\n\u001b[1;32m   1752\u001b[0m         \u001b[0mresult\u001b[0m \u001b[0;34m=\u001b[0m \u001b[0;32mNone\u001b[0m\u001b[0;34m\u001b[0m\u001b[0;34m\u001b[0m\u001b[0m\n",
            "\u001b[0;32m<ipython-input-14-860350229>\u001b[0m in \u001b[0;36mforward\u001b[0;34m(self, data)\u001b[0m\n\u001b[1;32m    176\u001b[0m \u001b[0;34m\u001b[0m\u001b[0m\n\u001b[1;32m    177\u001b[0m         \u001b[0;31m# Social attention with relative velocity\u001b[0m\u001b[0;34m\u001b[0m\u001b[0;34m\u001b[0m\u001b[0m\n\u001b[0;32m--> 178\u001b[0;31m         \u001b[0msocial_ctx\u001b[0m \u001b[0;34m=\u001b[0m \u001b[0mself\u001b[0m\u001b[0;34m.\u001b[0m\u001b[0msocial_attn\u001b[0m\u001b[0;34m(\u001b[0m\u001b[0mego_h\u001b[0m\u001b[0;34m,\u001b[0m \u001b[0mother_h\u001b[0m\u001b[0;34m,\u001b[0m \u001b[0mrel_pos\u001b[0m\u001b[0;34m,\u001b[0m \u001b[0mrel_vel\u001b[0m\u001b[0;34m)\u001b[0m\u001b[0;34m\u001b[0m\u001b[0;34m\u001b[0m\u001b[0m\n\u001b[0m\u001b[1;32m    179\u001b[0m \u001b[0;34m\u001b[0m\u001b[0m\n\u001b[1;32m    180\u001b[0m         \u001b[0;31m# Enhanced fusion\u001b[0m\u001b[0;34m\u001b[0m\u001b[0;34m\u001b[0m\u001b[0m\n",
            "\u001b[0;32m/usr/local/lib/python3.11/dist-packages/torch/nn/modules/module.py\u001b[0m in \u001b[0;36m_wrapped_call_impl\u001b[0;34m(self, *args, **kwargs)\u001b[0m\n\u001b[1;32m   1737\u001b[0m             \u001b[0;32mreturn\u001b[0m \u001b[0mself\u001b[0m\u001b[0;34m.\u001b[0m\u001b[0m_compiled_call_impl\u001b[0m\u001b[0;34m(\u001b[0m\u001b[0;34m*\u001b[0m\u001b[0margs\u001b[0m\u001b[0;34m,\u001b[0m \u001b[0;34m**\u001b[0m\u001b[0mkwargs\u001b[0m\u001b[0;34m)\u001b[0m  \u001b[0;31m# type: ignore[misc]\u001b[0m\u001b[0;34m\u001b[0m\u001b[0;34m\u001b[0m\u001b[0m\n\u001b[1;32m   1738\u001b[0m         \u001b[0;32melse\u001b[0m\u001b[0;34m:\u001b[0m\u001b[0;34m\u001b[0m\u001b[0;34m\u001b[0m\u001b[0m\n\u001b[0;32m-> 1739\u001b[0;31m             \u001b[0;32mreturn\u001b[0m \u001b[0mself\u001b[0m\u001b[0;34m.\u001b[0m\u001b[0m_call_impl\u001b[0m\u001b[0;34m(\u001b[0m\u001b[0;34m*\u001b[0m\u001b[0margs\u001b[0m\u001b[0;34m,\u001b[0m \u001b[0;34m**\u001b[0m\u001b[0mkwargs\u001b[0m\u001b[0;34m)\u001b[0m\u001b[0;34m\u001b[0m\u001b[0;34m\u001b[0m\u001b[0m\n\u001b[0m\u001b[1;32m   1740\u001b[0m \u001b[0;34m\u001b[0m\u001b[0m\n\u001b[1;32m   1741\u001b[0m     \u001b[0;31m# torchrec tests the code consistency with the following code\u001b[0m\u001b[0;34m\u001b[0m\u001b[0;34m\u001b[0m\u001b[0m\n",
            "\u001b[0;32m/usr/local/lib/python3.11/dist-packages/torch/nn/modules/module.py\u001b[0m in \u001b[0;36m_call_impl\u001b[0;34m(self, *args, **kwargs)\u001b[0m\n\u001b[1;32m   1748\u001b[0m                 \u001b[0;32mor\u001b[0m \u001b[0m_global_backward_pre_hooks\u001b[0m \u001b[0;32mor\u001b[0m \u001b[0m_global_backward_hooks\u001b[0m\u001b[0;34m\u001b[0m\u001b[0;34m\u001b[0m\u001b[0m\n\u001b[1;32m   1749\u001b[0m                 or _global_forward_hooks or _global_forward_pre_hooks):\n\u001b[0;32m-> 1750\u001b[0;31m             \u001b[0;32mreturn\u001b[0m \u001b[0mforward_call\u001b[0m\u001b[0;34m(\u001b[0m\u001b[0;34m*\u001b[0m\u001b[0margs\u001b[0m\u001b[0;34m,\u001b[0m \u001b[0;34m**\u001b[0m\u001b[0mkwargs\u001b[0m\u001b[0;34m)\u001b[0m\u001b[0;34m\u001b[0m\u001b[0;34m\u001b[0m\u001b[0m\n\u001b[0m\u001b[1;32m   1751\u001b[0m \u001b[0;34m\u001b[0m\u001b[0m\n\u001b[1;32m   1752\u001b[0m         \u001b[0mresult\u001b[0m \u001b[0;34m=\u001b[0m \u001b[0;32mNone\u001b[0m\u001b[0;34m\u001b[0m\u001b[0;34m\u001b[0m\u001b[0m\n",
            "\u001b[0;32m<ipython-input-38-2371750079>\u001b[0m in \u001b[0;36mforward\u001b[0;34m(self, ego_h, other_h, rel_pos, rel_vel)\u001b[0m\n\u001b[1;32m     42\u001b[0m \u001b[0;34m\u001b[0m\u001b[0m\n\u001b[1;32m     43\u001b[0m         \u001b[0;31m# Combine relative position and velocity\u001b[0m\u001b[0;34m\u001b[0m\u001b[0;34m\u001b[0m\u001b[0m\n\u001b[0;32m---> 44\u001b[0;31m         \u001b[0mrel_features\u001b[0m \u001b[0;34m=\u001b[0m \u001b[0mtorch\u001b[0m\u001b[0;34m.\u001b[0m\u001b[0mcat\u001b[0m\u001b[0;34m(\u001b[0m\u001b[0;34m[\u001b[0m\u001b[0mrel_pos\u001b[0m\u001b[0;34m,\u001b[0m \u001b[0mrel_vel\u001b[0m\u001b[0;34m]\u001b[0m\u001b[0;34m,\u001b[0m \u001b[0mdim\u001b[0m\u001b[0;34m=\u001b[0m\u001b[0;34m-\u001b[0m\u001b[0;36m1\u001b[0m\u001b[0;34m)\u001b[0m  \u001b[0;31m# [B, N, 5]\u001b[0m\u001b[0;34m\u001b[0m\u001b[0;34m\u001b[0m\u001b[0m\n\u001b[0m\u001b[1;32m     45\u001b[0m \u001b[0;34m\u001b[0m\u001b[0m\n\u001b[1;32m     46\u001b[0m         \u001b[0;31m# Enhanced K, V with positional encoding\u001b[0m\u001b[0;34m\u001b[0m\u001b[0;34m\u001b[0m\u001b[0m\n",
            "\u001b[0;31mKeyboardInterrupt\u001b[0m: "
          ]
        }
      ]
    },
    {
      "cell_type": "markdown",
      "metadata": {
        "id": "g0J6y9GYjKm0"
      },
      "source": [
        "#### Randomly sample validation dataset and Visualize the ground truth and your predictions on a 2D plane for Question 3 Problem A"
      ]
    },
    {
      "cell_type": "code",
      "source": [
        "import matplotlib.pyplot as plt\n",
        "import random\n",
        "\n",
        "def plot_trajectory(ax, pred, gt, title=None):\n",
        "    ax.cla()\n",
        "    # Plot the predicted future trajectory\n",
        "    ax.plot(pred[0,:60,0], pred[0,:60,1], color='red', label='Predicted Future Trajectory')\n",
        "\n",
        "    # Plot the ground truth future trajectory\n",
        "    ax.plot(gt[0,:60,0], gt[0,:60,1], color='blue', label='Ground Truth Future Trajectory')\n",
        "\n",
        "    # Optionally set axis limits, labels, and title.\n",
        "    x_max = max(pred[..., 0].max(), gt[..., 0].max())\n",
        "    x_min = min(pred[..., 0].min(), gt[..., 0].min())\n",
        "    y_max = max(pred[..., 1].max(), gt[..., 1].max())\n",
        "    y_min = min(pred[..., 1].min(), gt[..., 1].min())\n",
        "\n",
        "    ax.set_xlim(x_min, x_max)\n",
        "    ax.set_ylim(y_min, y_max)\n",
        "    ax.set_xlabel('X-axis')\n",
        "    ax.set_ylabel('Y-axis')\n",
        "\n",
        "    if title:\n",
        "        ax.set_title(title)\n",
        "\n",
        "    ax.legend()\n",
        "    ax.grid(True, linestyle='--', alpha=0.7)"
      ],
      "metadata": {
        "id": "MR9CWM0rTle1"
      },
      "execution_count": 26,
      "outputs": []
    },
    {
      "cell_type": "code",
      "source": [
        "import matplotlib.pyplot as plt\n",
        "import random\n",
        "from google.colab import files\n",
        "\n",
        "# Load model\n",
        "model.load_state_dict(torch.load(best_models['first']['path']))\n",
        "model.eval()\n",
        "\n",
        "# Select one random sample from the validation set\n",
        "#idx = random.choice(range(len(val_dataset)))\n",
        "idx = 276\n",
        "batch = val_dataset[idx]\n",
        "batch = batch.to(device)\n",
        "\n",
        "# Forward pass\n",
        "pred = model(batch)\n",
        "\n",
        "# Rescale and shift predictions to world coordinates\n",
        "gt = torch.stack(torch.split(batch.y, 60, dim=0), dim=0)\n",
        "pred = pred * batch.scale.view(-1, 1, 1) + batch.origin.unsqueeze(1)\n",
        "gt = gt * batch.scale.view(-1, 1, 1) + batch.origin.unsqueeze(1)\n",
        "\n",
        "# Convert to numpy\n",
        "pred = pred.detach().cpu().numpy()\n",
        "gt = gt.detach().cpu().numpy()\n",
        "\n",
        "# Plot\n",
        "fig, ax = plt.subplots(figsize=(10, 5))\n",
        "plot_trajectory(ax, pred, gt, title=f\"Sample {idx}, Proposed Model\")\n",
        "plt.tight_layout()\n",
        "\n",
        "# Save the plot\n",
        "save_path = \"trajectory_plot_imp.png\"\n",
        "plt.savefig(save_path)\n",
        "plt.show()\n",
        "\n",
        "# Downloard\n",
        "files.download(save_path)\n"
      ],
      "metadata": {
        "colab": {
          "base_uri": "https://localhost:8080/",
          "height": 564
        },
        "id": "LTxijO3fTmR_",
        "outputId": "d007c923-48ed-4649-a69a-b70f4d5b4827"
      },
      "execution_count": 72,
      "outputs": [
        {
          "output_type": "stream",
          "name": "stderr",
          "text": [
            "<ipython-input-8-4076418191>:48: DeprecationWarning: __array_wrap__ must accept context and return_scalar arguments (positionally) in the future. (Deprecated NumPy 2.0)\n",
            "  future = future - origin\n"
          ]
        },
        {
          "output_type": "display_data",
          "data": {
            "text/plain": [
              "<Figure size 1000x500 with 1 Axes>"
            ],
            "image/png": "[encoded data removed]"
          },
          "metadata": {}
        },
        {
          "output_type": "display_data",
          "data": {
            "text/plain": [
              "<IPython.core.display.Javascript object>"
            ],
            "application/javascript": [
              "\n",
              "    async function download(id, filename, size) {\n",
              "      if (!google.colab.kernel.accessAllowed) {\n",
              "        return;\n",
              "      }\n",
              "      const div = document.createElement('div');\n",
              "      const label = document.createElement('label');\n",
              "      label.textContent = `Downloading \"${filename}\": `;\n",
              "      div.appendChild(label);\n",
              "      const progress = document.createElement('progress');\n",
              "      progress.max = size;\n",
              "      div.appendChild(progress);\n",
              "      document.body.appendChild(div);\n",
              "\n",
              "      const buffers = [];\n",
              "      let downloaded = 0;\n",
              "\n",
              "      const channel = await google.colab.kernel.comms.open(id);\n",
              "      // Send a message to notify the kernel that we're ready.\n",
              "      channel.send({})\n",
              "\n",
              "      for await (const message of channel.messages) {\n",
              "        // Send a message to notify the kernel that we're ready.\n",
              "        channel.send({})\n",
              "        if (message.buffers) {\n",
              "          for (const buffer of message.buffers) {\n",
              "            buffers.push(buffer);\n",
              "            downloaded += buffer.byteLength;\n",
              "            progress.value = downloaded;\n",
              "          }\n",
              "        }\n",
              "      }\n",
              "      const blob = new Blob(buffers, {type: 'application/binary'});\n",
              "      const a = document.createElement('a');\n",
              "      a.href = window.URL.createObjectURL(blob);\n",
              "      a.download = filename;\n",
              "      div.appendChild(a);\n",
              "      a.click();\n",
              "      div.remove();\n",
              "    }\n",
              "  "
            ]
          },
          "metadata": {}
        },
        {
          "output_type": "display_data",
          "data": {
            "text/plain": [
              "<IPython.core.display.Javascript object>"
            ],
            "application/javascript": [
              "download(\"download_a900579b-94aa-4d15-aeba-e00a271dc9d2\", \"trajectory_plot_imp.png\", 53404)"
            ]
          },
          "metadata": {}
        }
      ]
    },
    {
      "cell_type": "code",
      "source": [
        "plt.figure(figsize=(8, 6))\n",
        "from google.colab import files\n",
        "\n",
        "# Plot each line with its own x-axis range\n",
        "plt.plot(range(1, len(zero_heading_val) + 1), zero_heading_val, label='Degree 3')\n",
        "plt.plot(range(1, len(degree_5_val) + 1), degree_5_val, label='Degree 5')\n",
        "plt.plot(range(1, len(degree_7_val) + 1), degree_7_val, label='Degree 7')\n",
        "\n",
        "plt.xlabel('Epoch')\n",
        "plt.ylabel('Loss')\n",
        "plt.title('Validation Loss')\n",
        "plt.legend()\n",
        "plt.grid(True)\n",
        "plt.savefig('validation_loss_degree.png')\n",
        "plt.show()\n",
        "\n",
        "# Download the file\n",
        "files.download('validation_loss_degree.png')\n"
      ],
      "metadata": {
        "colab": {
          "base_uri": "https://localhost:8080/",
          "height": 564
        },
        "id": "9f46T61f83GM",
        "outputId": "66438bf5-591b-4959-ef82-d5c84c5c90d6"
      },
      "execution_count": null,
      "outputs": [
        {
          "output_type": "display_data",
          "data": {
            "text/plain": [
              "<Figure size 800x600 with 1 Axes>"
            ],
            "image/png": "[encoded data removed]"
          },
          "metadata": {}
        },
        {
          "output_type": "display_data",
          "data": {
            "text/plain": [
              "<IPython.core.display.Javascript object>"
            ],
            "application/javascript": [
              "\n",
              "    async function download(id, filename, size) {\n",
              "      if (!google.colab.kernel.accessAllowed) {\n",
              "        return;\n",
              "      }\n",
              "      const div = document.createElement('div');\n",
              "      const label = document.createElement('label');\n",
              "      label.textContent = `Downloading \"${filename}\": `;\n",
              "      div.appendChild(label);\n",
              "      const progress = document.createElement('progress');\n",
              "      progress.max = size;\n",
              "      div.appendChild(progress);\n",
              "      document.body.appendChild(div);\n",
              "\n",
              "      const buffers = [];\n",
              "      let downloaded = 0;\n",
              "\n",
              "      const channel = await google.colab.kernel.comms.open(id);\n",
              "      // Send a message to notify the kernel that we're ready.\n",
              "      channel.send({})\n",
              "\n",
              "      for await (const message of channel.messages) {\n",
              "        // Send a message to notify the kernel that we're ready.\n",
              "        channel.send({})\n",
              "        if (message.buffers) {\n",
              "          for (const buffer of message.buffers) {\n",
              "            buffers.push(buffer);\n",
              "            downloaded += buffer.byteLength;\n",
              "            progress.value = downloaded;\n",
              "          }\n",
              "        }\n",
              "      }\n",
              "      const blob = new Blob(buffers, {type: 'application/binary'});\n",
              "      const a = document.createElement('a');\n",
              "      a.href = window.URL.createObjectURL(blob);\n",
              "      a.download = filename;\n",
              "      div.appendChild(a);\n",
              "      a.click();\n",
              "      div.remove();\n",
              "    }\n",
              "  "
            ]
          },
          "metadata": {}
        },
        {
          "output_type": "display_data",
          "data": {
            "text/plain": [
              "<IPython.core.display.Javascript object>"
            ],
            "application/javascript": [
              "download(\"download_8ff9fdc1-6b9f-4cb5-bbe2-c1974688946c\", \"validation_loss_degree.png\", 51885)"
            ]
          },
          "metadata": {}
        }
      ]
    },
    {
      "cell_type": "code",
      "source": [
        "plt.figure(figsize=(8, 6))\n",
        "from google.colab import files\n",
        "\n",
        "# Plot each line with its own x-axis range\n",
        "plt.plot(range(1, len(zero_heading_train) + 1), zero_heading_train, label='Degree 3')\n",
        "plt.plot(range(1, len(degree_5_train) + 1), degree_5_train, label='Degree 5')\n",
        "plt.plot(range(1, len(degree_7_train) + 1), degree_7_train, label='Degree 7')\n",
        "\n",
        "plt.xlabel('Epoch')\n",
        "plt.ylabel('Loss')\n",
        "plt.title('Training Loss')\n",
        "plt.legend()\n",
        "plt.grid(True)\n",
        "plt.savefig('training_loss_degree.png')\n",
        "plt.show()\n",
        "\n",
        "# Download the file\n",
        "files.download('training_loss_degree.png')"
      ],
      "metadata": {
        "colab": {
          "base_uri": "https://localhost:8080/",
          "height": 582
        },
        "id": "sAKyvu_beyvX",
        "outputId": "8af209c7-6787-4471-d609-5d80e2d175d6"
      },
      "execution_count": null,
      "outputs": [
        {
          "output_type": "display_data",
          "data": {
            "text/plain": [
              "<Figure size 800x600 with 1 Axes>"
            ],
            "image/png": "[encoded data removed]"
          },
          "metadata": {}
        },
        {
          "output_type": "display_data",
          "data": {
            "text/plain": [
              "<IPython.core.display.Javascript object>"
            ],
            "application/javascript": [
              "\n",
              "    async function download(id, filename, size) {\n",
              "      if (!google.colab.kernel.accessAllowed) {\n",
              "        return;\n",
              "      }\n",
              "      const div = document.createElement('div');\n",
              "      const label = document.createElement('label');\n",
              "      label.textContent = `Downloading \"${filename}\": `;\n",
              "      div.appendChild(label);\n",
              "      const progress = document.createElement('progress');\n",
              "      progress.max = size;\n",
              "      div.appendChild(progress);\n",
              "      document.body.appendChild(div);\n",
              "\n",
              "      const buffers = [];\n",
              "      let downloaded = 0;\n",
              "\n",
              "      const channel = await google.colab.kernel.comms.open(id);\n",
              "      // Send a message to notify the kernel that we're ready.\n",
              "      channel.send({})\n",
              "\n",
              "      for await (const message of channel.messages) {\n",
              "        // Send a message to notify the kernel that we're ready.\n",
              "        channel.send({})\n",
              "        if (message.buffers) {\n",
              "          for (const buffer of message.buffers) {\n",
              "            buffers.push(buffer);\n",
              "            downloaded += buffer.byteLength;\n",
              "            progress.value = downloaded;\n",
              "          }\n",
              "        }\n",
              "      }\n",
              "      const blob = new Blob(buffers, {type: 'application/binary'});\n",
              "      const a = document.createElement('a');\n",
              "      a.href = window.URL.createObjectURL(blob);\n",
              "      a.download = filename;\n",
              "      div.appendChild(a);\n",
              "      a.click();\n",
              "      div.remove();\n",
              "    }\n",
              "  "
            ]
          },
          "metadata": {}
        },
        {
          "output_type": "display_data",
          "data": {
            "text/plain": [
              "<IPython.core.display.Javascript object>"
            ],
            "application/javascript": [
              "download(\"download_41742711-c9b6-4b04-8c27-7942e733cbfd\", \"training_loss_degree.png\", 33456)"
            ]
          },
          "metadata": {}
        }
      ]
    },
    {
      "cell_type": "code",
      "execution_count": null,
      "metadata": {
        "id": "zBzzm9w9jKm0"
      },
      "outputs": [],
      "source": [
        "import matplotlib.pyplot as plt\n",
        "import random\n",
        "\n",
        "def plot_trajectory(ax, pred, gt, title=None):\n",
        "    ax.cla()\n",
        "    # Plot the predicted future trajectory\n",
        "    ax.plot(pred[0,:60,0], pred[0,:60,1], color='red', label='Predicted Future Trajectory')\n",
        "\n",
        "    # Plot the ground truth future trajectory\n",
        "    ax.plot(gt[0,:60,0], gt[0,:60,1], color='blue', label='Ground Truth Future Trajectory')\n",
        "\n",
        "    # Optionally set axis limits, labels, and title.\n",
        "    x_max = max(pred[..., 0].max(), gt[..., 0].max())\n",
        "    x_min = min(pred[..., 0].min(), gt[..., 0].min())\n",
        "    y_max = max(pred[..., 1].max(), gt[..., 1].max())\n",
        "    y_min = min(pred[..., 1].min(), gt[..., 1].min())\n",
        "\n",
        "    ax.set_xlim(x_min, x_max)\n",
        "    ax.set_ylim(y_min, y_max)\n",
        "    ax.set_xlabel('X-axis')\n",
        "    ax.set_ylabel('Y-axis')\n",
        "\n",
        "    if title:\n",
        "        ax.set_title(title)\n",
        "\n",
        "    ax.legend()\n",
        "    ax.grid(True, linestyle='--', alpha=0.7)"
      ]
    },
    {
      "cell_type": "code",
      "source": [
        "model.load_state_dict(torch.load(best_models['first']['path']))"
      ],
      "metadata": {
        "colab": {
          "base_uri": "https://localhost:8080/"
        },
        "id": "gw5fyegA2GN1",
        "outputId": "bfadc3e0-fc0f-4bd6-ed69-361c22e5a064"
      },
      "execution_count": null,
      "outputs": [
        {
          "output_type": "execute_result",
          "data": {
            "text/plain": [
              "<All keys matched successfully>"
            ]
          },
          "metadata": {},
          "execution_count": 40
        }
      ]
    },
    {
      "cell_type": "code",
      "execution_count": null,
      "metadata": {
        "colab": {
          "base_uri": "https://localhost:8080/",
          "height": 738
        },
        "id": "CnKNooRAjKm0",
        "outputId": "77308358-d461-425b-baec-46ff28b8c335"
      },
      "outputs": [
        {
          "output_type": "stream",
          "name": "stderr",
          "text": [
            "<ipython-input-35-68eb2f28bb17>:61: DeprecationWarning: __array_wrap__ must accept context and return_scalar arguments (positionally) in the future. (Deprecated NumPy 2.0)\n",
            "  future = future - origin\n"
          ]
        },
        {
          "output_type": "display_data",
          "data": {
            "text/plain": [
              "<Figure size 2000x1000 with 4 Axes>"
            ],
            "image/png": "[encoded data removed]"
          },
          "metadata": {}
        }
      ],
      "source": [
        "#model.load_state_dict(torch.load(\"best_model.pt\"))\n",
        "model.eval()\n",
        "\n",
        "# randomly select 4 samples from the validation set\n",
        "random_indices = random.sample(range(len(val_dataset)), 4)\n",
        "fig, axes = plt.subplots(2, 2, figsize=(20, 10))\n",
        "axes = axes.flatten()  # Flatten the array to iterate single axes objects\n",
        "\n",
        "for i, idx in enumerate(random_indices):\n",
        "    batch = val_dataset[idx]\n",
        "    batch = batch.to(device)\n",
        "    pred = model(batch)\n",
        "    gt = torch.stack(torch.split(batch.y, 60, dim=0), dim=0)\n",
        "\n",
        "    pred = pred * batch.scale.view(-1, 1, 1) + batch.origin.unsqueeze(1)\n",
        "    gt = torch.stack(torch.split(batch.y, 60, dim=0), dim=0) * batch.scale.view(-1, 1, 1) + batch.origin.unsqueeze(1)\n",
        "\n",
        "    pred = pred.detach().cpu().numpy()\n",
        "    gt = gt.detach().cpu().numpy()\n",
        "\n",
        "    # Plot the trajectory using the i-th axis\n",
        "    plot_trajectory(axes[i], pred, gt, title=f\"Sample {idx}\")\n",
        "\n",
        "plt.show()"
      ]
    },
    {
      "cell_type": "markdown",
      "metadata": {
        "id": "ccytp4y_jKm1"
      },
      "source": [
        "#### Output your predictions of the best model on the test set"
      ]
    },
    {
      "cell_type": "code",
      "execution_count": null,
      "metadata": {
        "id": "01cBZ4WvjKm1"
      },
      "outputs": [],
      "source": [
        "test_dataset = TrajectoryDatasetTest(test_data, scale=scale)\n",
        "test_loader = DataLoader(test_dataset, batch_size=32, shuffle=False,\n",
        "                         collate_fn=lambda xs: Batch.from_data_list(xs))\n",
        "\n",
        "#best_model = torch.load(\"best_model.pt\")\n",
        "#model = LinearRegressionModel().to(device)\n",
        "# model = MLP(50 * 50 * 6, 60 * 2).to(device)\n",
        "# model = LSTM().to(device)\n",
        "#model = Agent0HybridTransformer(emb_dim=256,num_layers=6).to(device)\n",
        "#model = Agent0TemporalAttentionTransformer(emb_dim=256, num_layers=6).to(device)\n",
        "#model = Agent0TemporalAttentionTransformer(emb_dim=256, num_layers=8).to(device)\n",
        "\n",
        "# Old best (second best submission):\n",
        "#model = ImprovedLSTMParametricTrajectoryFeatures(degree=3, lstm_layers=2).to(device)\n",
        "\n",
        "# Best so far:\n",
        "#model = ImprovedLSTMParametricTrajectoryFeatures(degree=3, lstm_layers=2, other_rnn_dim=256).to(device)\n",
        "\n",
        "\n",
        "model = ImprovedLSTMParametricTrajectoryFeatures(degree=3, lstm_layers=2, other_rnn_dim=256).to(device)\n",
        "\n",
        "\n",
        "model.load_state_dict(torch.load(best_models['first']['path']))\n",
        "#model.load_state_dict(best_model)\n",
        "model.eval()\n",
        "\n",
        "pred_list = []\n",
        "with torch.no_grad():\n",
        "    for batch in test_loader:\n",
        "        batch = batch.to(device)\n",
        "        pred_norm = model(batch)  # prediction in ego frame (normalized)\n",
        "\n",
        "        # Convert batch to list to access individual data elements\n",
        "        data_list = batch.to_data_list()\n",
        "\n",
        "        # Process each sample in the batch individually\n",
        "        batch_predictions = []\n",
        "        for i, data in enumerate(data_list):\n",
        "            # Get the prediction for this sample\n",
        "            single_pred_norm = pred_norm[i]  # Shape: (60, 2)\n",
        "\n",
        "            # Step 1: Unnormalize (scale back up)\n",
        "            single_pred = single_pred_norm * data.scale\n",
        "\n",
        "            # Step 2: Translate back from origin (add back the translation)\n",
        "            single_pred = single_pred + data.origin\n",
        "\n",
        "            # Step 3: Rotate back to world coordinates\n",
        "            # Since we applied @ R.T in preprocessing, we need to apply @ R to inverse\n",
        "            R = data.rotation  # This is the rotation matrix R\n",
        "            single_pred = single_pred @ R  # Apply inverse rotation\n",
        "\n",
        "            batch_predictions.append(single_pred.cpu().numpy())\n",
        "\n",
        "        # Stack predictions for this batch\n",
        "        batch_pred_array = np.stack(batch_predictions, axis=0)\n",
        "        pred_list.append(batch_pred_array)\n",
        "\n",
        "# Concatenate all predictions\n",
        "pred_list = np.concatenate(pred_list, axis=0)  # Shape: (N, 60, 2)\n",
        "\n",
        "# Reshape for submission format\n",
        "pred_output = pred_list.reshape(-1, 2)  # Shape: (N*60, 2)\n",
        "\n",
        "# Create submission DataFrame\n",
        "output_df = pd.DataFrame(pred_output, columns=['x', 'y'])\n",
        "output_df.index.name = 'index'\n",
        "output_df.to_csv('submission.csv', index=True)"
      ]
    },
    {
      "cell_type": "code",
      "source": [
        "print(output_df.head(12))"
      ],
      "metadata": {
        "colab": {
          "base_uri": "https://localhost:8080/"
        },
        "id": "YBxOkrGg8oVr",
        "outputId": "e3c8733f-10df-45f7-fd38-745b62d082c5"
      },
      "execution_count": null,
      "outputs": [
        {
          "output_type": "stream",
          "name": "stdout",
          "text": [
            "                 x            y\n",
            "index                          \n",
            "0      5426.125977  1467.522583\n",
            "1      5426.129883  1467.512817\n",
            "2      5426.133301  1467.501587\n",
            "3      5426.136719  1467.489014\n",
            "4      5426.140137  1467.475098\n",
            "5      5426.144043  1467.459839\n",
            "6      5426.147949  1467.443359\n",
            "7      5426.151855  1467.425659\n",
            "8      5426.155762  1467.406738\n",
            "9      5426.160156  1467.386719\n",
            "10     5426.164551  1467.365479\n",
            "11     5426.168457  1467.343018\n"
          ]
        }
      ]
    },
    {
      "cell_type": "code",
      "source": [
        "from google.colab import files\n",
        "files.download('submission.csv')\n"
      ],
      "metadata": {
        "colab": {
          "base_uri": "https://localhost:8080/",
          "height": 17
        },
        "id": "TZ7unH-Y54dC",
        "outputId": "d66ead3d-42b7-4f93-a707-f102812f240a"
      },
      "execution_count": null,
      "outputs": [
        {
          "output_type": "display_data",
          "data": {
            "text/plain": [
              "<IPython.core.display.Javascript object>"
            ],
            "application/javascript": [
              "\n",
              "    async function download(id, filename, size) {\n",
              "      if (!google.colab.kernel.accessAllowed) {\n",
              "        return;\n",
              "      }\n",
              "      const div = document.createElement('div');\n",
              "      const label = document.createElement('label');\n",
              "      label.textContent = `Downloading \"${filename}\": `;\n",
              "      div.appendChild(label);\n",
              "      const progress = document.createElement('progress');\n",
              "      progress.max = size;\n",
              "      div.appendChild(progress);\n",
              "      document.body.appendChild(div);\n",
              "\n",
              "      const buffers = [];\n",
              "      let downloaded = 0;\n",
              "\n",
              "      const channel = await google.colab.kernel.comms.open(id);\n",
              "      // Send a message to notify the kernel that we're ready.\n",
              "      channel.send({})\n",
              "\n",
              "      for await (const message of channel.messages) {\n",
              "        // Send a message to notify the kernel that we're ready.\n",
              "        channel.send({})\n",
              "        if (message.buffers) {\n",
              "          for (const buffer of message.buffers) {\n",
              "            buffers.push(buffer);\n",
              "            downloaded += buffer.byteLength;\n",
              "            progress.value = downloaded;\n",
              "          }\n",
              "        }\n",
              "      }\n",
              "      const blob = new Blob(buffers, {type: 'application/binary'});\n",
              "      const a = document.createElement('a');\n",
              "      a.href = window.URL.createObjectURL(blob);\n",
              "      a.download = filename;\n",
              "      div.appendChild(a);\n",
              "      a.click();\n",
              "      div.remove();\n",
              "    }\n",
              "  "
            ]
          },
          "metadata": {}
        },
        {
          "output_type": "display_data",
          "data": {
            "text/plain": [
              "<IPython.core.display.Javascript object>"
            ],
            "application/javascript": [
              "download(\"download_4043dbc2-10f4-4503-80aa-7ced091854b1\", \"submission.csv\", 3259195)"
            ]
          },
          "metadata": {}
        }
      ]
    },
    {
      "cell_type": "markdown",
      "metadata": {
        "id": "HCnzydRfjKm1"
      },
      "source": [
        "## Step 4: Summarize your experiments and results in table and figures in the submitted PDF file for Question 3 Problem A"
      ]
    },
    {
      "cell_type": "markdown",
      "metadata": {
        "id": "FIL-7RGWjKm1"
      },
      "source": [
        "## Step 5: Analyze the results, identify the issues and plan for the improvement in the submitted PDF file for Question 3 Problem B"
      ]
    }
  ],
  "metadata": {
    "kernelspec": {
      "display_name": "Python 3",
      "name": "python3"
    },
    "language_info": {
      "codemirror_mode": {
        "name": "ipython",
        "version": 3
      },
      "file_extension": ".py",
      "mimetype": "text/x-python",
      "name": "python",
      "nbconvert_exporter": "python",
      "pygments_lexer": "ipython3",
      "version": "3.8.16"
    },
    "colab": {
      "provenance": [],
      "gpuType": "T4"
    },
    "accelerator": "GPU"
  },
  "nbformat": 4,
  "nbformat_minor": 0
}