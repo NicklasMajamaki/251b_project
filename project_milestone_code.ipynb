{
  "cells": [
    {
      "cell_type": "markdown",
      "metadata": {
        "id": "vtpRJtJ7jKmo"
      },
      "source": [
        "# CSE251B Project Milestone Starter File"
      ]
    },
    {
      "cell_type": "markdown",
      "metadata": {
        "id": "ir_VbBlRjKmq"
      },
      "source": [
        "## Step 1: Import Dependencies:"
      ]
    },
    {
      "cell_type": "code",
      "execution_count": null,
      "metadata": {
        "colab": {
          "base_uri": "https://localhost:8080/"
        },
        "id": "qlOkUAyvjKmq",
        "outputId": "e85e5465-2951-449b-950f-b5093f0111a1"
      },
      "outputs": [],
      "source": [
        "!pip install torch-geometric\n",
        "import numpy as np\n",
        "import pandas as pd\n",
        "import matplotlib.pyplot as plt\n",
        "import random\n",
        "\n",
        "import torch\n",
        "import torch.nn as nn\n",
        "import torch.optim as optim\n",
        "from torch.utils.data import Dataset, DataLoader\n",
        "from torch_geometric.data import Data, Batch\n",
        "from torch_geometric.nn import GCNConv, global_mean_pool\n",
        "import torch.nn.functional as F\n",
        "import tqdm"
      ]
    },
    {
      "cell_type": "markdown",
      "metadata": {
        "id": "teyO4QBAjKms"
      },
      "source": [
        "## Step 2: Load the Dataset"
      ]
    },
    {
      "cell_type": "markdown",
      "metadata": {
        "id": "jTfrTwVJjKmt"
      },
      "source": [
        "#### You need to describe in your own words what the dataset is about, and use mathematical language and formulate your prediction task on the submitted PDF file for Question 1 Problem A."
      ]
    },
    {
      "cell_type": "markdown",
      "metadata": {
        "id": "vYEqPu-MjKmt"
      },
      "source": [
        "#### Here we are loading the dataset from the local directory. And answer Question 1 Problem B"
      ]
    },
    {
      "cell_type": "code",
      "execution_count": null,
      "metadata": {
        "colab": {
          "base_uri": "https://localhost:8080/"
        },
        "id": "DmXptbI8jOP9",
        "outputId": "205d22d7-19c1-441b-ded3-281f259fa83d"
      },
      "outputs": [],
      "source": [
        "from google.colab import drive\n",
        "drive.mount('/content/drive')\n",
        "train_npz = np.load('/content/drive/My Drive/251B_data/train.npz')\n",
        "test_npz = np.load('/content/drive/My Drive/251B_data/test_input.npz')\n",
        "train_data = train_npz['data']\n",
        "test_data = test_npz['data']"
      ]
    },
    {
      "cell_type": "code",
      "execution_count": null,
      "metadata": {
        "id": "5nnGw5vEjKmu"
      },
      "outputs": [],
      "source": [
        "# train_npz = np.load('./train.npz')\n",
        "# train_data = train_npz['data']\n",
        "# test_npz  = np.load('./test_input.npz')\n",
        "# test_data  = test_npz['data']"
      ]
    },
    {
      "cell_type": "code",
      "execution_count": null,
      "metadata": {
        "colab": {
          "base_uri": "https://localhost:8080/"
        },
        "id": "yfTjEsRojKmu",
        "outputId": "582aa153-1077-4b48-a4bf-2ed10c4dbb38"
      },
      "outputs": [],
      "source": [
        "print(train_data.shape, test_data.shape)\n",
        "\n",
        "# Split once for later use\n",
        "X_train = train_data[..., :50, :]\n",
        "Y_train = train_data[:, 0, 50:, :2]"
      ]
    },
    {
      "cell_type": "code",
      "execution_count": null,
      "metadata": {
        "id": "ZJqZL7oQjKmv"
      },
      "outputs": [],
      "source": [
        "def plot_heatmap(data, title=None, bins=5):\n",
        "    plt.figure(figsize=(6, 6))\n",
        "\n",
        "    x_max = data[..., 0].max()\n",
        "    x_min = data[..., 0].min()\n",
        "    y_max = data[..., 1].max()\n",
        "    y_min = data[..., 1].min()\n",
        "\n",
        "    plt.hist2d(data[:, 0], data[:, 1], bins=bins, cmap='hot')\n",
        "    plt.xlim(x_min, x_max)\n",
        "    plt.ylim(y_min, y_max)\n",
        "    plt.title(title)\n",
        "    plt.colorbar(label='Density')\n",
        "    plt.xlabel('X-axis')\n",
        "    plt.ylabel('Y-axis')\n",
        "    plt.show()"
      ]
    },
    {
      "cell_type": "code",
      "execution_count": null,
      "metadata": {
        "id": "WsLmUjWLjKmw"
      },
      "outputs": [],
      "source": [
        "xy_in = train_data[:, :, :50, :2].reshape(-1, 2)\n",
        "# only find the x, y != 0\n",
        "xy_in_not_0 = xy_in[(xy_in[:, 0] != 0) & (xy_in[:, 1] != 0)]"
      ]
    },
    {
      "cell_type": "code",
      "execution_count": null,
      "metadata": {
        "colab": {
          "base_uri": "https://localhost:8080/",
          "height": 1000
        },
        "id": "ajh2TcgIjKmw",
        "outputId": "88d0555d-09b2-43db-f367-a3da81a95f76"
      },
      "outputs": [],
      "source": [
        "plot_heatmap(xy_in, title='Heatmap of XY In', bins=5)\n",
        "plot_heatmap(xy_in_not_0, title='Heatmap of XY In (non-zero)', bins=5)"
      ]
    },
    {
      "cell_type": "code",
      "execution_count": null,
      "metadata": {
        "colab": {
          "base_uri": "https://localhost:8080/",
          "height": 1000
        },
        "id": "1MMwKcxJjKmx",
        "outputId": "32d7bc96-416e-45db-f8a0-1a0248992da1"
      },
      "outputs": [],
      "source": [
        "plot_heatmap(xy_in, title='Heatmap of XY In', bins=50)\n",
        "plot_heatmap(xy_in_not_0, title='Heatmap of XY In (non-zero)', bins=50)"
      ]
    },
    {
      "cell_type": "markdown",
      "metadata": {
        "id": "nAhF7O8GjKmx"
      },
      "source": [
        "#### Try to play around with dataset for training and testing, make exploratory analysis on the dataset for bonus points(up to 2)"
      ]
    },
    {
      "cell_type": "markdown",
      "metadata": {
        "id": "Vf67FAN9jKmy"
      },
      "source": [
        "## Step 3: Setting up the Training and Testing"
      ]
    },
    {
      "cell_type": "markdown",
      "metadata": {
        "id": "xVyUmmrtjKmy"
      },
      "source": [
        "### Example Code:"
      ]
    },
    {
      "cell_type": "code",
      "execution_count": null,
      "metadata": {
        "id": "jVxyqxiXjKmy"
      },
      "outputs": [],
      "source": [
        "class TrajectoryDatasetTrain(Dataset):\n",
        "    def __init__(self, data, scale=10.0, augment=True):\n",
        "        \"\"\"\n",
        "        data: Shape (N, 50, 110, 6) Training data\n",
        "        scale: Scale for normalization (suggested to use 10.0 for Argoverse 2 data)\n",
        "        augment: Whether to apply data augmentation (only for training)\n",
        "        \"\"\"\n",
        "        self.data = data\n",
        "        self.scale = scale\n",
        "        self.augment = augment\n",
        "\n",
        "    def __len__(self):\n",
        "        return len(self.data)\n",
        "\n",
        "    def __getitem__(self, idx):\n",
        "        scene = self.data[idx]\n",
        "        # Getting 50 historical timestamps and 60 future timestamps\n",
        "        hist = scene[:, :50, :].copy()    # (agents=50, time_seq=50, 6)\n",
        "        future = torch.tensor(scene[0, 50:, :2].copy(), dtype=torch.float32)  # (60, 2)\n",
        "\n",
        "        # Data augmentation(only for training)\n",
        "        if self.augment:\n",
        "            if np.random.rand() < 0.5:\n",
        "                theta = np.random.uniform(-np.pi, np.pi)\n",
        "                R = np.array([[np.cos(theta), -np.sin(theta)],\n",
        "                              [np.sin(theta),  np.cos(theta)]], dtype=np.float32)\n",
        "                # Rotate the historical trajectory and future trajectory\n",
        "                hist[..., :2] = hist[..., :2] @ R\n",
        "                hist[..., 2:4] = hist[..., 2:4] @ R\n",
        "                future = future @ R\n",
        "            if np.random.rand() < 0.5:\n",
        "                hist[..., 0] *= -1\n",
        "                hist[..., 2] *= -1\n",
        "                future[:, 0] *= -1\n",
        "\n",
        "        # Use the last timeframe of the historical trajectory as the origin\n",
        "        origin = hist[0, 49, :2].copy()  # (2,)\n",
        "        hist[..., :2] = hist[..., :2] - origin\n",
        "        future = future - origin\n",
        "\n",
        "        # Normalize the historical trajectory and future trajectory\n",
        "        hist[..., :4] = hist[..., :4] / self.scale\n",
        "        future = future / self.scale\n",
        "\n",
        "        data_item = Data(\n",
        "            x=torch.tensor(hist, dtype=torch.float32),\n",
        "            y=future.type(torch.float32),\n",
        "            origin=torch.tensor(origin, dtype=torch.float32).unsqueeze(0),\n",
        "            scale=torch.tensor(self.scale, dtype=torch.float32),\n",
        "        )\n",
        "\n",
        "        return data_item\n",
        "\n",
        "\n",
        "class TrajectoryDatasetTest(Dataset):\n",
        "    def __init__(self, data, scale=10.0):\n",
        "        \"\"\"\n",
        "        data: Shape (N, 50, 110, 6) Testing data\n",
        "        scale: Scale for normalization (suggested to use 10.0 for Argoverse 2 data)\n",
        "        \"\"\"\n",
        "        self.data = data\n",
        "        self.scale = scale\n",
        "\n",
        "    def __len__(self):\n",
        "        return len(self.data)\n",
        "\n",
        "    def __getitem__(self, idx):\n",
        "        # Testing data only contains historical trajectory\n",
        "        scene = self.data[idx]  # (50, 50, 6)\n",
        "        hist = scene.copy()\n",
        "\n",
        "        origin = hist[0, 49, :2].copy()\n",
        "        hist[..., :2] = hist[..., :2] - origin\n",
        "        hist[..., :4] = hist[..., :4] / self.scale\n",
        "\n",
        "        data_item = Data(\n",
        "            x=torch.tensor(hist, dtype=torch.float32),\n",
        "            origin=torch.tensor(origin, dtype=torch.float32).unsqueeze(0),\n",
        "            scale=torch.tensor(self.scale, dtype=torch.float32),\n",
        "        )\n",
        "        return data_item"
      ]
    },
    {
      "cell_type": "markdown",
      "metadata": {
        "id": "xpdUtssvjKmy"
      },
      "source": [
        "#### Answer Question related to Your Computational Platform and GPU for Question 2 Problem A"
      ]
    },
    {
      "cell_type": "code",
      "execution_count": null,
      "metadata": {
        "colab": {
          "base_uri": "https://localhost:8080/"
        },
        "id": "sORc8kt5jKmz",
        "outputId": "8f9f265f-ae2d-4971-8f51-47fb1eff1399"
      },
      "outputs": [],
      "source": [
        "torch.manual_seed(251)\n",
        "np.random.seed(42)\n",
        "\n",
        "scale = 7.0\n",
        "\n",
        "N = len(train_data)\n",
        "val_size = int(0.1 * N)\n",
        "train_size = N - val_size\n",
        "\n",
        "train_dataset = TrajectoryDatasetTrain(train_data[:train_size], scale=scale, augment=True)\n",
        "val_dataset = TrajectoryDatasetTrain(train_data[train_size:], scale=scale, augment=False)\n",
        "\n",
        "train_dataloader = DataLoader(train_dataset, batch_size=32, shuffle=True, collate_fn=lambda x: Batch.from_data_list(x))\n",
        "val_dataloader = DataLoader(val_dataset, batch_size=32, shuffle=False, collate_fn=lambda x: Batch.from_data_list(x))\n",
        "\n",
        "# Set device for training speedup\n",
        "if torch.backends.mps.is_available():\n",
        "    device = torch.device('mps')\n",
        "    print(\"Using Apple Silicon GPU\")\n",
        "elif torch.cuda.is_available():\n",
        "    device = torch.device('cuda')\n",
        "    print(\"Using CUDA GPU\")\n",
        "else:\n",
        "    device = torch.device('cpu')"
      ]
    },
    {
      "cell_type": "markdown",
      "metadata": {
        "id": "QP7kHO2KjKmz"
      },
      "source": [
        "#### Your Model for Question 2 Problem B (Include your model architecture pictures and also can use some mathmatical equations to explain your model in your report)"
      ]
    },
    {
      "cell_type": "code",
      "execution_count": null,
      "metadata": {
        "id": "GX7DP-enjKmz"
      },
      "outputs": [],
      "source": [
        "class LinearRegressionModel(nn.Module):\n",
        "    def __init__(self, input_dim=50 * 50 * 2, output_dim=60 * 2):\n",
        "        super(LinearRegressionModel, self).__init__()\n",
        "        self.linear = nn.Linear(input_dim, output_dim)\n",
        "\n",
        "    def forward(self, data):\n",
        "        x = data.x[..., :2] # (batch*50, 50, 2)\n",
        "        x = x.reshape(-1, 50 * 50 * 2) # (batch, 5000)\n",
        "        x = self.linear(x)\n",
        "        return x.view(-1, 60, 2)"
      ]
    },
    {
      "cell_type": "code",
      "execution_count": null,
      "metadata": {
        "id": "nLkPEQ0mjKmz"
      },
      "outputs": [],
      "source": [
        "class MLP(nn.Module):\n",
        "    def __init__(self, input_features, output_features):\n",
        "        super(MLP, self).__init__()\n",
        "\n",
        "        # Define the layers\n",
        "        self.flatten = nn.Flatten()\n",
        "        self.mlp = nn.Sequential(\n",
        "            nn.Linear(input_features, 1024),\n",
        "            nn.ReLU(),\n",
        "            nn.Dropout(0.1),\n",
        "\n",
        "            nn.Linear(1024, 512),\n",
        "            nn.ReLU(),\n",
        "            nn.Dropout(0.1),\n",
        "\n",
        "            nn.Linear(512, 256),\n",
        "            nn.ReLU(),\n",
        "            nn.Dropout(0.1),\n",
        "\n",
        "            nn.Linear(256, output_features)\n",
        "        )\n",
        "\n",
        "    def forward(self, data):\n",
        "        x = data.x\n",
        "        x = x[:, :, :, :2] # (batch, 50, 50, 2)\n",
        "        x = x.reshape(-1, 50 * 50 * 6)\n",
        "        x = self.mlp(x)\n",
        "        return x.view(-1, 60, 2)"
      ]
    },
    {
      "cell_type": "markdown",
      "metadata": {
        "id": "LfyXCo1ajKmz"
      },
      "source": [
        "#### This Model will be covered during Week 6 Lecture (If you don't understand it for now, don't worry, we will cover it in the lecture, or you can ask in the office hours)"
      ]
    },
    {
      "cell_type": "code",
      "execution_count": null,
      "metadata": {
        "id": "mHZsdu_3jKmz"
      },
      "outputs": [],
      "source": [
        "class LSTM(nn.Module):\n",
        "    def __init__(self, input_dim=6, hidden_dim=128, output_dim=60 * 2):\n",
        "        super(LSTM, self).__init__()\n",
        "        self.lstm = nn.LSTM(input_dim, hidden_dim, batch_first=True)\n",
        "        self.fc = nn.Linear(hidden_dim, output_dim)\n",
        "\n",
        "    def forward(self, data):\n",
        "        x = data.x\n",
        "        x= x.reshape(-1, 50, 50, 6)  # (batch_size, num_agents, seq_len, input_dim)\n",
        "        x = x[:, 0, :, :] # Only Consider ego agent index 0\n",
        "\n",
        "        lstm_out, _ = self.lstm(x)\n",
        "        # lstm_out is of shape (batch_size, seq_len, hidden_dim) and we want the last time step output\n",
        "        out = self.fc(lstm_out[:, -1, :])\n",
        "        return out.view(-1, 60, 2)"
      ]
    },
    {
      "cell_type": "code",
      "execution_count": null,
      "metadata": {
        "id": "AP19E7NQsHlL"
      },
      "outputs": [],
      "source": [
        "class Agent0SimpleTransformer(nn.Module):\n",
        "    def __init__(self, input_dim=6, emb_dim=128, nhead=4, num_layers=2, output_dim=60 * 2):\n",
        "        super().__init__()\n",
        "        self.input_fc = nn.Linear(input_dim, emb_dim)\n",
        "\n",
        "        encoder_layer = nn.TransformerEncoderLayer(\n",
        "            d_model=emb_dim,\n",
        "            nhead=nhead,\n",
        "            dim_feedforward=256,\n",
        "            batch_first=True,\n",
        "        )\n",
        "        self.encoder = nn.TransformerEncoder(encoder_layer, num_layers=num_layers)\n",
        "        self.output_fc = nn.Linear(emb_dim, output_dim)\n",
        "        self.pos_emb = nn.Parameter(torch.zeros(1, 50, emb_dim))\n",
        "\n",
        "    def forward(self, data):\n",
        "        x = data.x\n",
        "        x = x.reshape(-1, 50, 50, 6)\n",
        "        x = x[:, 0, :, :]             \n",
        "\n",
        "        x = self.input_fc(x) + self.pos_emb[:, :x.shape[1], :] \n",
        "\n",
        "        x = self.encoder(x)\n",
        "\n",
        "        out = self.output_fc(x[:, -1, :])\n",
        "\n",
        "        return out.view(-1, 60, 2)"
      ]
    },
    {
      "cell_type": "code",
      "execution_count": null,
      "metadata": {
        "id": "V37J1E0yvg3Q"
      },
      "outputs": [],
      "source": [
        "class TransformerWithAllAgents(nn.Module):\n",
        "    def __init__(self, input_dim=6, emb_dim=128, nhead=4, num_layers=2, output_dim=60 * 2):\n",
        "        super().__init__()\n",
        "        self.input_fc = nn.Linear(input_dim, emb_dim)\n",
        "\n",
        "        # Encoder over agent 0 only\n",
        "        encoder_layer = nn.TransformerEncoderLayer(\n",
        "            d_model=emb_dim,\n",
        "            nhead=nhead,\n",
        "            dim_feedforward=256,\n",
        "            batch_first=True,\n",
        "        )\n",
        "        self.encoder = nn.TransformerEncoder(encoder_layer, num_layers=num_layers)\n",
        "\n",
        "        self.scene_fc = nn.Linear(emb_dim, emb_dim)\n",
        "\n",
        "        self.fusion_fc = nn.Linear(emb_dim * 2, emb_dim)\n",
        "\n",
        "        self.output_fc = nn.Linear(emb_dim, output_dim)\n",
        "\n",
        "        self.pos_emb = nn.Parameter(torch.zeros(1, 50, emb_dim))\n",
        "\n",
        "    def forward(self, data):\n",
        "        x = data.x\n",
        "        x = x.reshape(-1, 50, 50, 6)\n",
        "\n",
        "        # Ego agent\n",
        "        agent0 = x[:, 0, :, :]\n",
        "        agent0_emb = self.input_fc(agent0) + self.pos_emb[:, :agent0.shape[1], :]\n",
        "        agent0_enc = self.encoder(agent0_emb)\n",
        "\n",
        "        # Other agents\n",
        "        other_agents = x[:, 1:, :, :]\n",
        "        other_emb = self.input_fc(other_agents)\n",
        "\n",
        "        scene_emb = other_emb.mean(dim=1)\n",
        "        scene_emb = self.scene_fc(scene_emb)\n",
        "\n",
        "        agent0_last = agent0_enc[:, -1, :] \n",
        "        scene_last = scene_emb[:, -1, :]  \n",
        "\n",
        "        fused = torch.cat([agent0_last, scene_last], dim=-1)\n",
        "        fused = self.fusion_fc(fused) \n",
        "\n",
        "        out = self.output_fc(fused)\n",
        "        return out.view(-1, 60, 2)\n"
      ]
    },
    {
      "cell_type": "code",
      "execution_count": null,
      "metadata": {
        "id": "xQ7CJw74qzTS"
      },
      "outputs": [],
      "source": [
        "class AttentionToAllAgents(nn.Module):\n",
        "    def __init__(self, input_dim=6, emb_dim=128, nhead=4, num_layers=2, output_dim=60 * 2):\n",
        "        super().__init__()\n",
        "        self.input_fc = nn.Linear(input_dim, emb_dim)\n",
        "        self.other_agent_input_fc = nn.Linear(input_dim, emb_dim)\n",
        "\n",
        "        encoder_layer = nn.TransformerEncoderLayer(\n",
        "            d_model=emb_dim,\n",
        "            nhead=nhead,\n",
        "            dim_feedforward=256,\n",
        "            batch_first=True,\n",
        "        )\n",
        "        self.encoder = nn.TransformerEncoder(encoder_layer, num_layers=num_layers)\n",
        "\n",
        "        self.cross_attn = nn.MultiheadAttention(embed_dim=emb_dim, num_heads=nhead, batch_first=True)\n",
        "\n",
        "        self.fusion_fc = nn.Sequential(\n",
        "            nn.Linear(emb_dim * 2, emb_dim),\n",
        "            nn.ReLU(),\n",
        "            nn.Linear(emb_dim, emb_dim)\n",
        "        )\n",
        "        self.output_fc = nn.Linear(emb_dim, output_dim)\n",
        "        self.agent0_pooling = nn.Linear(emb_dim, 1)\n",
        "\n",
        "        self.pos_emb = nn.Parameter(torch.zeros(1, 50, emb_dim))\n",
        "\n",
        "        self.other_time_pos_emb = nn.Embedding(50, emb_dim)\n",
        "\n",
        "    def forward(self, data):\n",
        "        x = data.x\n",
        "        x = x.reshape(-1, 50, 50, 6)\n",
        "        B, A, T, _ = x.shape\n",
        "\n",
        "        agent0 = x[:, 0, :, :]\n",
        "        agent0_emb = self.input_fc(agent0) + self.pos_emb[:, :T, :]\n",
        "        agent0_enc = self.encoder(agent0_emb)\n",
        "\n",
        "        # (this works better than mean pooling, keep it)\n",
        "        weights = self.agent0_pooling(agent0_enc).softmax(dim=1)\n",
        "        agent0_pooled = (weights * agent0_enc).sum(dim=1, keepdim=True)\n",
        "\n",
        "        other_agents = x[:, 1:, :, :]\n",
        "        other_emb = self.other_agent_input_fc(other_agents)\n",
        "        T = other_emb.shape[2]\n",
        "        time_indices = torch.arange(T, device=x.device)\n",
        "        time_emb = self.other_time_pos_emb(time_indices)\n",
        "        other_emb = other_emb + time_emb.unsqueeze(0).unsqueeze(0) # These dimensions super fragile\n",
        "        other_seq = other_emb.reshape(B, (A - 1) * T, -1) \n",
        "\n",
        "        attn_output, _ = self.cross_attn(query=agent0_pooled, key=other_seq, value=other_seq)\n",
        "        attn_output = attn_output.squeeze(1)\n",
        "\n",
        "        fused = torch.cat([agent0_pooled.squeeze(1), attn_output], dim=-1)\n",
        "        fused = self.fusion_fc(fused)\n",
        "\n",
        "        out = self.output_fc(fused)\n",
        "        return out.view(B, 60, 2)"
      ]
    },
    {
      "cell_type": "markdown",
      "metadata": {
        "id": "1SPd9wIpjKmz"
      },
      "source": [
        "#### Your Optimizer and Hyperparameters for Question 2 Problem A (Try to use different optimizers and hyperparameters for your model and see how it affects the performance of your model)"
      ]
    },
    {
      "cell_type": "code",
      "execution_count": null,
      "metadata": {
        "id": "t3BGiHJ8wwAF"
      },
      "outputs": [],
      "source": [
        "class SmoothnessMSELoss(nn.Module):\n",
        "    def __init__(self, position_weight=1.0, acceleration_weight=0.05):\n",
        "        super().__init__()\n",
        "        self.position_weight = position_weight\n",
        "        self.acceleration_weight = acceleration_weight\n",
        "\n",
        "    def forward(self, pred, target):\n",
        "\n",
        "        loss_pos = nn.functional.mse_loss(pred, target)\n",
        "\n",
        "        pred_vel = pred[:, 1:, :] - pred[:, :-1, :]\n",
        "\n",
        "        pred_acc = pred_vel[:, 1:, :] - pred_vel[:, :-1, :]\n",
        "        loss_acc = pred_acc.pow(2).mean()\n",
        "\n",
        "        total_loss = (\n",
        "            self.position_weight * loss_pos +\n",
        "            self.acceleration_weight * loss_acc\n",
        "        )\n",
        "        return total_loss"
      ]
    },
    {
      "cell_type": "code",
      "execution_count": null,
      "metadata": {
        "colab": {
          "base_uri": "https://localhost:8080/"
        },
        "id": "hGlM0tnkjKmz",
        "outputId": "6f93c81b-2417-4c22-fd1c-a97f0692f145"
      },
      "outputs": [],
      "source": [
        "from torch.optim import AdamW\n",
        "from torch.optim.lr_scheduler import CosineAnnealingLR\n",
        "# model = LinearRegressionModel().to(device)\n",
        "# model = MLP(50 * 50 * 6, 60 * 2).to(device)\n",
        "#model = LSTM().to(device)\n",
        "#model = Agent0SimpleTransformer().to(device)\n",
        "#model = TransformerWithAllAgents(emb_dim=256,num_layers=6).to(device)\n",
        "model = AttentionToAllAgents(emb_dim=256, num_layers=6).to(device)\n",
        "\n",
        "optimizer = AdamW(model.parameters(), lr=1e-4, weight_decay=1e-4)\n",
        "#optimizer = optim.Adam(model.parameters(), lr=1e-4, weight_decay=1e-4)\n",
        "scheduler = torch.optim.lr_scheduler.ReduceLROnPlateau(optimizer, mode='min', factor=0.5, patience=3, verbose=True)\n",
        "#scheduler = CosineAnnealingLR(optimizer, T_max=80, eta_min=1e-6)\n",
        "#scheduler = optim.lr_scheduler.StepLR(optimizer, step_size=20, gamma=0.25) # You can try different schedulers\n",
        "early_stopping_patience = 12\n",
        "best_val_loss = float('inf')\n",
        "no_improvement = 0\n",
        "#criterion = nn.MSELoss()\n",
        "\n",
        "criterion = SmoothnessMSELoss(position_weight=1.0, acceleration_weight=0.4)\n"
      ]
    },
    {
      "cell_type": "markdown",
      "metadata": {
        "id": "5kjlFPE2jKm0"
      },
      "source": [
        "#### Using the Simple Linear Regression Model for Question 2B and Visualize the validation loss(MAE) (Hint: You should adapt the code for training loss and try to draw graphs as specified in the project description)"
      ]
    },
    {
      "cell_type": "code",
      "execution_count": null,
      "metadata": {
        "colab": {
          "base_uri": "https://localhost:8080/"
        },
        "id": "WyfTkCljjKm0",
        "outputId": "8970bdf5-0885-4555-bc3c-92bade284788"
      },
      "outputs": [],
      "source": [
        "train_losses = []\n",
        "for epoch in tqdm.tqdm(range(100), desc=\"Epoch\", unit=\"epoch\"):\n",
        "    # ---- Training ----\n",
        "    model.train()\n",
        "    train_loss = 0\n",
        "    for batch in train_dataloader:\n",
        "        batch = batch.to(device)\n",
        "        pred = model(batch)\n",
        "        y = batch.y.view(batch.num_graphs, 60, 2)\n",
        "        loss = criterion(pred, y)\n",
        "        optimizer.zero_grad()\n",
        "        loss.backward()\n",
        "        torch.nn.utils.clip_grad_norm_(model.parameters(), 5.0)\n",
        "        optimizer.step()\n",
        "        train_loss += loss.item()\n",
        "\n",
        "    # ---- Validation ----\n",
        "    model.eval()\n",
        "    val_loss = 0\n",
        "    val_mae = 0\n",
        "    val_mse = 0\n",
        "    with torch.no_grad():\n",
        "        for batch in val_dataloader:\n",
        "            batch = batch.to(device)\n",
        "            pred = model(batch)\n",
        "            y = batch.y.view(batch.num_graphs, 60, 2)\n",
        "            val_loss += criterion(pred, y).item()\n",
        "\n",
        "            # show MAE and MSE with unnormalized data\n",
        "            pred = pred * batch.scale.view(-1, 1, 1) + batch.origin.unsqueeze(1)\n",
        "            y = y * batch.scale.view(-1, 1, 1) + batch.origin.unsqueeze(1)\n",
        "            val_mae += nn.L1Loss()(pred, y).item()\n",
        "            val_mse += nn.MSELoss()(pred, y).item()\n",
        "\n",
        "    train_loss /= len(train_dataloader)\n",
        "    train_losses.append(train_loss)\n",
        "    val_loss /= len(val_dataloader)\n",
        "    val_mae /= len(val_dataloader)\n",
        "    val_mse /= len(val_dataloader)\n",
        "    #scheduler.step()\n",
        "    scheduler.step(val_loss)\n",
        "\n",
        "    tqdm.tqdm.write(f\"Epoch {epoch:03d} | Learning rate {optimizer.param_groups[0]['lr']:.6f} | train normalized MSE {train_loss:8.4f} | val normalized MSE {val_loss:8.4f}, | val MAE {val_mae:8.4f} | val MSE {val_mse:8.4f}\")\n",
        "    if val_loss < best_val_loss - 1e-3:\n",
        "        best_val_loss = val_loss\n",
        "        no_improvement = 0\n",
        "        torch.save(model.state_dict(), \"best_model.pt\")\n",
        "    else:\n",
        "        no_improvement += 1\n",
        "        if no_improvement >= early_stopping_patience:\n",
        "            print(\"Early stop!\")\n",
        "            break"
      ]
    },
    {
      "cell_type": "markdown",
      "metadata": {
        "id": "g0J6y9GYjKm0"
      },
      "source": [
        "#### Randomly sample validation dataset and Visualize the ground truth and your predictions on a 2D plane for Question 3 Problem A"
      ]
    },
    {
      "cell_type": "code",
      "execution_count": null,
      "metadata": {
        "colab": {
          "base_uri": "https://localhost:8080/",
          "height": 487
        },
        "id": "HKn9Vm1CXFWh",
        "outputId": "714516ee-9323-4bec-f402-bf96e6bf22d4"
      },
      "outputs": [],
      "source": [
        "from google.colab import files\n",
        "\n",
        "plt.plot(train_losses, label='Train Loss')\n",
        "plt.xlabel(\"Epoch\")\n",
        "plt.ylabel(\"Loss\")\n",
        "plt.title(\"Training Loss Over Time\")\n",
        "plt.grid(True)\n",
        "plt.legend()\n",
        "plt.tight_layout()\n",
        "plt.savefig(\"training_loss.png\", dpi=300)\n",
        "plt.show()\n",
        "files.download('training_loss.png')\n"
      ]
    },
    {
      "cell_type": "code",
      "execution_count": null,
      "metadata": {
        "id": "zBzzm9w9jKm0"
      },
      "outputs": [],
      "source": [
        "import matplotlib.pyplot as plt\n",
        "import random\n",
        "\n",
        "def plot_trajectory(ax, pred, gt, title=None):\n",
        "    ax.cla()\n",
        "    # Plot the predicted future trajectory\n",
        "    ax.plot(pred[0,:60,0], pred[0,:60,1], color='red', label='Predicted Future Trajectory')\n",
        "\n",
        "    # Plot the ground truth future trajectory\n",
        "    ax.plot(gt[0,:60,0], gt[0,:60,1], color='blue', label='Ground Truth Future Trajectory')\n",
        "\n",
        "    # Optionally set axis limits, labels, and title.\n",
        "    x_max = max(pred[..., 0].max(), gt[..., 0].max())\n",
        "    x_min = min(pred[..., 0].min(), gt[..., 0].min())\n",
        "    y_max = max(pred[..., 1].max(), gt[..., 1].max())\n",
        "    y_min = min(pred[..., 1].min(), gt[..., 1].min())\n",
        "\n",
        "    ax.set_xlim(x_min, x_max)\n",
        "    ax.set_ylim(y_min, y_max)\n",
        "    ax.set_xlabel('X-axis')\n",
        "    ax.set_ylabel('Y-axis')\n",
        "\n",
        "    if title:\n",
        "        ax.set_title(title)\n",
        "\n",
        "    ax.legend()\n",
        "    ax.grid(True, linestyle='--', alpha=0.7)"
      ]
    },
    {
      "cell_type": "code",
      "execution_count": null,
      "metadata": {
        "colab": {
          "base_uri": "https://localhost:8080/",
          "height": 486
        },
        "id": "CnKNooRAjKm0",
        "outputId": "55ab1b86-8c0d-4a21-c097-9755dd502585"
      },
      "outputs": [],
      "source": [
        "model.load_state_dict(torch.load(\"best_model.pt\"))\n",
        "model.eval()\n",
        "\n",
        "# randomly select 4 samples from the validation set\n",
        "random_indices = random.sample(range(len(val_dataset)), 4)\n",
        "fig, axes = plt.subplots(2, 2, figsize=(20, 10))\n",
        "axes = axes.flatten()  # Flatten the array to iterate single axes objects\n",
        "\n",
        "for i, idx in enumerate(random_indices):\n",
        "    batch = val_dataset[idx]\n",
        "    batch = batch.to(device)\n",
        "    pred = model(batch)\n",
        "    gt = torch.stack(torch.split(batch.y, 60, dim=0), dim=0)\n",
        "\n",
        "    pred = pred * batch.scale.view(-1, 1, 1) + batch.origin.unsqueeze(1)\n",
        "    gt = torch.stack(torch.split(batch.y, 60, dim=0), dim=0) * batch.scale.view(-1, 1, 1) + batch.origin.unsqueeze(1)\n",
        "\n",
        "    pred = pred.detach().cpu().numpy()\n",
        "    gt = gt.detach().cpu().numpy()\n",
        "\n",
        "    # Plot the trajectory using the i-th axis\n",
        "    plot_trajectory(axes[i], pred, gt, title=f\"Sample {idx}\")\n",
        "plt.savefig(\"predicted_trajectories.png\", dpi=300)\n",
        "plt.show()\n",
        "files.download('predicted_trajectories.png')"
      ]
    },
    {
      "cell_type": "markdown",
      "metadata": {
        "id": "ccytp4y_jKm1"
      },
      "source": [
        "#### Output your predictions of the best model on the test set"
      ]
    },
    {
      "cell_type": "code",
      "execution_count": null,
      "metadata": {
        "id": "01cBZ4WvjKm1"
      },
      "outputs": [],
      "source": [
        "test_dataset = TrajectoryDatasetTest(test_data, scale=scale)\n",
        "test_loader = DataLoader(test_dataset, batch_size=32, shuffle=False,\n",
        "                         collate_fn=lambda xs: Batch.from_data_list(xs))\n",
        "\n",
        "best_model = torch.load(\"best_model.pt\")\n",
        "\n",
        "model = AttentionToAllAgents(emb_dim=256, num_layers=6).to(device)\n",
        "\n",
        "model.load_state_dict(best_model)\n",
        "model.eval()\n",
        "\n",
        "pred_list = []\n",
        "with torch.no_grad():\n",
        "    for batch in test_loader:\n",
        "        batch = batch.to(device)\n",
        "        pred_norm = model(batch)\n",
        "\n",
        "        # Reshape the prediction to (N, 60, 2)\n",
        "        pred = pred_norm * batch.scale.view(-1,1,1) + batch.origin.unsqueeze(1)\n",
        "        pred_list.append(pred.cpu().numpy())\n",
        "pred_list = np.concatenate(pred_list, axis=0)  # (N,60,2)\n",
        "pred_output = pred_list.reshape(-1, 2)  # (N*60, 2)\n",
        "output_df = pd.DataFrame(pred_output, columns=['x', 'y'])\n",
        "output_df.index.name = 'index'\n",
        "output_df.to_csv('submission.csv', index=True)"
      ]
    },
    {
      "cell_type": "code",
      "execution_count": null,
      "metadata": {
        "colab": {
          "base_uri": "https://localhost:8080/",
          "height": 17
        },
        "id": "TZ7unH-Y54dC",
        "outputId": "7a7aac9a-4d7f-4cc1-b528-ad4312e64220"
      },
      "outputs": [],
      "source": [
        "from google.colab import files\n",
        "files.download('submission.csv')\n"
      ]
    },
    {
      "cell_type": "markdown",
      "metadata": {
        "id": "HCnzydRfjKm1"
      },
      "source": [
        "## Step 4: Summarize your experiments and results in table and figures in the submitted PDF file for Question 3 Problem A"
      ]
    },
    {
      "cell_type": "markdown",
      "metadata": {
        "id": "FIL-7RGWjKm1"
      },
      "source": [
        "## Step 5: Analyze the results, identify the issues and plan for the improvement in the submitted PDF file for Question 3 Problem B"
      ]
    }
  ],
  "metadata": {
    "accelerator": "GPU",
    "colab": {
      "gpuType": "T4",
      "provenance": []
    },
    "kernelspec": {
      "display_name": "base",
      "language": "python",
      "name": "python3"
    },
    "language_info": {
      "codemirror_mode": {
        "name": "ipython",
        "version": 3
      },
      "file_extension": ".py",
      "mimetype": "text/x-python",
      "name": "python",
      "nbconvert_exporter": "python",
      "pygments_lexer": "ipython3",
      "version": "3.12.3"
    }
  },
  "nbformat": 4,
  "nbformat_minor": 0
}
